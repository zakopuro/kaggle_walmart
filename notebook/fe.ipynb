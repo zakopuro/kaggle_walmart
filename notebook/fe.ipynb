{
 "cells": [
  {
   "cell_type": "code",
   "execution_count": 1,
   "metadata": {},
   "outputs": [],
   "source": [
    "import pandas as pd\n",
    "import numpy as np"
   ]
  },
  {
   "cell_type": "code",
   "execution_count": 2,
   "metadata": {},
   "outputs": [],
   "source": [
    "data = pd.read_csv('../data/other/kernel_predata.csv.zip')"
   ]
  },
  {
   "cell_type": "code",
   "execution_count": 3,
   "metadata": {},
   "outputs": [
    {
     "output_type": "execute_result",
     "data": {
      "text/plain": "                                id  item_id  dept_id  cat_id  store_id  \\\n0  HOUSEHOLD_1_514_WI_3_validation     2506        5       2         9   \n1  HOUSEHOLD_1_515_WI_3_validation     2507        5       2         9   \n2  HOUSEHOLD_1_516_WI_3_validation     2508        5       2         9   \n3  HOUSEHOLD_1_517_WI_3_validation     2509        5       2         9   \n4  HOUSEHOLD_1_518_WI_3_validation     2510        5       2         9   \n\n   state_id  demand   part        date  wm_yr_wk  ...  rolling_kurt_t30  \\\n0         2      16  train  2013-07-18     11325  ...               NaN   \n1         2       1  train  2013-07-18     11325  ...               NaN   \n2         2       1  train  2013-07-18     11325  ...               NaN   \n3         2       1  train  2013-07-18     11325  ...               NaN   \n4         2       0  train  2013-07-18     11325  ...               NaN   \n\n   price_change_t1  price_change_t365  rolling_price_std_t7  \\\n0              NaN                NaN                   NaN   \n1              NaN                NaN                   NaN   \n2              NaN                NaN                   NaN   \n3              NaN                NaN                   NaN   \n4              NaN                NaN                   NaN   \n\n   rolling_price_std_t30  year  month  week  day  dayofweek  \n0                    NaN  2013      7    29   18          3  \n1                    NaN  2013      7    29   18          3  \n2                    NaN  2013      7    29   18          3  \n3                    NaN  2013      7    29   18          3  \n4                    NaN  2013      7    29   18          3  \n\n[5 rows x 38 columns]",
      "text/html": "<div>\n<style scoped>\n    .dataframe tbody tr th:only-of-type {\n        vertical-align: middle;\n    }\n\n    .dataframe tbody tr th {\n        vertical-align: top;\n    }\n\n    .dataframe thead th {\n        text-align: right;\n    }\n</style>\n<table border=\"1\" class=\"dataframe\">\n  <thead>\n    <tr style=\"text-align: right;\">\n      <th></th>\n      <th>id</th>\n      <th>item_id</th>\n      <th>dept_id</th>\n      <th>cat_id</th>\n      <th>store_id</th>\n      <th>state_id</th>\n      <th>demand</th>\n      <th>part</th>\n      <th>date</th>\n      <th>wm_yr_wk</th>\n      <th>...</th>\n      <th>rolling_kurt_t30</th>\n      <th>price_change_t1</th>\n      <th>price_change_t365</th>\n      <th>rolling_price_std_t7</th>\n      <th>rolling_price_std_t30</th>\n      <th>year</th>\n      <th>month</th>\n      <th>week</th>\n      <th>day</th>\n      <th>dayofweek</th>\n    </tr>\n  </thead>\n  <tbody>\n    <tr>\n      <th>0</th>\n      <td>HOUSEHOLD_1_514_WI_3_validation</td>\n      <td>2506</td>\n      <td>5</td>\n      <td>2</td>\n      <td>9</td>\n      <td>2</td>\n      <td>16</td>\n      <td>train</td>\n      <td>2013-07-18</td>\n      <td>11325</td>\n      <td>...</td>\n      <td>NaN</td>\n      <td>NaN</td>\n      <td>NaN</td>\n      <td>NaN</td>\n      <td>NaN</td>\n      <td>2013</td>\n      <td>7</td>\n      <td>29</td>\n      <td>18</td>\n      <td>3</td>\n    </tr>\n    <tr>\n      <th>1</th>\n      <td>HOUSEHOLD_1_515_WI_3_validation</td>\n      <td>2507</td>\n      <td>5</td>\n      <td>2</td>\n      <td>9</td>\n      <td>2</td>\n      <td>1</td>\n      <td>train</td>\n      <td>2013-07-18</td>\n      <td>11325</td>\n      <td>...</td>\n      <td>NaN</td>\n      <td>NaN</td>\n      <td>NaN</td>\n      <td>NaN</td>\n      <td>NaN</td>\n      <td>2013</td>\n      <td>7</td>\n      <td>29</td>\n      <td>18</td>\n      <td>3</td>\n    </tr>\n    <tr>\n      <th>2</th>\n      <td>HOUSEHOLD_1_516_WI_3_validation</td>\n      <td>2508</td>\n      <td>5</td>\n      <td>2</td>\n      <td>9</td>\n      <td>2</td>\n      <td>1</td>\n      <td>train</td>\n      <td>2013-07-18</td>\n      <td>11325</td>\n      <td>...</td>\n      <td>NaN</td>\n      <td>NaN</td>\n      <td>NaN</td>\n      <td>NaN</td>\n      <td>NaN</td>\n      <td>2013</td>\n      <td>7</td>\n      <td>29</td>\n      <td>18</td>\n      <td>3</td>\n    </tr>\n    <tr>\n      <th>3</th>\n      <td>HOUSEHOLD_1_517_WI_3_validation</td>\n      <td>2509</td>\n      <td>5</td>\n      <td>2</td>\n      <td>9</td>\n      <td>2</td>\n      <td>1</td>\n      <td>train</td>\n      <td>2013-07-18</td>\n      <td>11325</td>\n      <td>...</td>\n      <td>NaN</td>\n      <td>NaN</td>\n      <td>NaN</td>\n      <td>NaN</td>\n      <td>NaN</td>\n      <td>2013</td>\n      <td>7</td>\n      <td>29</td>\n      <td>18</td>\n      <td>3</td>\n    </tr>\n    <tr>\n      <th>4</th>\n      <td>HOUSEHOLD_1_518_WI_3_validation</td>\n      <td>2510</td>\n      <td>5</td>\n      <td>2</td>\n      <td>9</td>\n      <td>2</td>\n      <td>0</td>\n      <td>train</td>\n      <td>2013-07-18</td>\n      <td>11325</td>\n      <td>...</td>\n      <td>NaN</td>\n      <td>NaN</td>\n      <td>NaN</td>\n      <td>NaN</td>\n      <td>NaN</td>\n      <td>2013</td>\n      <td>7</td>\n      <td>29</td>\n      <td>18</td>\n      <td>3</td>\n    </tr>\n  </tbody>\n</table>\n<p>5 rows × 38 columns</p>\n</div>"
     },
     "metadata": {},
     "execution_count": 3
    }
   ],
   "source": [
    "data.head()"
   ]
  },
  {
   "cell_type": "code",
   "execution_count": 7,
   "metadata": {},
   "outputs": [],
   "source": [
    "test = data[(data['date'] > '2016-04-24')]"
   ]
  },
  {
   "cell_type": "code",
   "execution_count": 9,
   "metadata": {},
   "outputs": [],
   "source": [
    "train = data[(data['date'] <= '2016-04-24')]"
   ]
  },
  {
   "cell_type": "code",
   "execution_count": 10,
   "metadata": {},
   "outputs": [],
   "source": [
    "test.to_pickle('../data/fe_test.pkl')"
   ]
  },
  {
   "cell_type": "code",
   "execution_count": 11,
   "metadata": {},
   "outputs": [],
   "source": [
    "train.to_csv('../data/fe_train.csv.zip',index=False,compression='zip')"
   ]
  },
  {
   "cell_type": "code",
   "execution_count": 4,
   "metadata": {},
   "outputs": [],
   "source": [
    "features = ['item_id', 'dept_id', 'cat_id', 'store_id', 'state_id', 'year', 'month', 'week', 'day', 'dayofweek', 'event_name_1', 'event_type_1', 'event_name_2', 'event_type_2', \n",
    "            'snap_CA', 'snap_TX', 'snap_WI', 'sell_price', 'lag_t28', 'lag_t29', 'lag_t30', 'rolling_mean_t7', 'rolling_std_t7', 'rolling_mean_t30', 'rolling_mean_t90', \n",
    "            'rolling_mean_t180', 'rolling_std_t30', 'price_change_t1', 'price_change_t365', 'rolling_price_std_t7', 'rolling_price_std_t30', 'rolling_skew_t30', 'rolling_kurt_t30']"
   ]
  },
  {
   "cell_type": "code",
   "execution_count": 5,
   "metadata": {},
   "outputs": [
    {
     "output_type": "execute_result",
     "data": {
      "text/plain": "          item_id  dept_id  cat_id  store_id  state_id  year  month  week  \\\n0            2506        5       2         9         2  2013      7    29   \n1            2507        5       2         9         2  2013      7    29   \n2            2508        5       2         9         2  2013      7    29   \n3            2509        5       2         9         2  2013      7    29   \n4            2510        5       2         9         2  2013      7    29   \n...           ...      ...     ...       ...       ...   ...    ...   ...   \n31681085     1432        2       0         9         2  2016      5    20   \n31681086     1433        2       0         9         2  2016      5    20   \n31681087     1434        2       0         9         2  2016      5    20   \n31681088     1435        2       0         9         2  2016      5    20   \n31681089     1436        2       0         9         2  2016      5    20   \n\n          day  dayofweek  ...  rolling_mean_t30  rolling_mean_t90  \\\n0          18          3  ...               NaN               NaN   \n1          18          3  ...               NaN               NaN   \n2          18          3  ...               NaN               NaN   \n3          18          3  ...               NaN               NaN   \n4          18          3  ...               NaN               NaN   \n...       ...        ...  ...               ...               ...   \n31681085   22          6  ...          0.200000          0.433333   \n31681086   22          6  ...          0.300000          0.100000   \n31681087   22          6  ...          0.866667          0.900000   \n31681088   22          6  ...          1.066667          1.022222   \n31681089   22          6  ...          1.166667          1.566667   \n\n          rolling_mean_t180  rolling_std_t30  price_change_t1  \\\n0                       NaN              NaN              NaN   \n1                       NaN              NaN              NaN   \n2                       NaN              NaN              NaN   \n3                       NaN              NaN              NaN   \n4                       NaN              NaN              NaN   \n...                     ...              ...              ...   \n31681085           0.616667         0.550861              0.0   \n31681086           0.050000         0.534983              0.0   \n31681087           0.761111         1.136642              0.0   \n31681088           1.338889         1.172481              0.0   \n31681089           1.511111         1.821014              0.0   \n\n          price_change_t365  rolling_price_std_t7  rolling_price_std_t30  \\\n0                       NaN                   NaN                    NaN   \n1                       NaN                   NaN                    NaN   \n2                       NaN                   NaN                    NaN   \n3                       NaN                   NaN                    NaN   \n4                       NaN                   NaN                    NaN   \n...                     ...                   ...                    ...   \n31681085                0.0                   0.0                    0.0   \n31681086                0.0                   0.0                    0.0   \n31681087                0.0                   0.0                    0.0   \n31681088                0.0                   0.0                    0.0   \n31681089                0.0                   0.0                    0.0   \n\n          rolling_skew_t30  rolling_kurt_t30  \n0                      NaN               NaN  \n1                      NaN               NaN  \n2                      NaN               NaN  \n3                      NaN               NaN  \n4                      NaN               NaN  \n...                    ...               ...  \n31681085          2.758372          6.731192  \n31681086          1.621490          1.950452  \n31681087          1.485839          1.986668  \n31681088          0.963120         -0.021316  \n31681089          1.681152          2.517528  \n\n[31681090 rows x 33 columns]",
      "text/html": "<div>\n<style scoped>\n    .dataframe tbody tr th:only-of-type {\n        vertical-align: middle;\n    }\n\n    .dataframe tbody tr th {\n        vertical-align: top;\n    }\n\n    .dataframe thead th {\n        text-align: right;\n    }\n</style>\n<table border=\"1\" class=\"dataframe\">\n  <thead>\n    <tr style=\"text-align: right;\">\n      <th></th>\n      <th>item_id</th>\n      <th>dept_id</th>\n      <th>cat_id</th>\n      <th>store_id</th>\n      <th>state_id</th>\n      <th>year</th>\n      <th>month</th>\n      <th>week</th>\n      <th>day</th>\n      <th>dayofweek</th>\n      <th>...</th>\n      <th>rolling_mean_t30</th>\n      <th>rolling_mean_t90</th>\n      <th>rolling_mean_t180</th>\n      <th>rolling_std_t30</th>\n      <th>price_change_t1</th>\n      <th>price_change_t365</th>\n      <th>rolling_price_std_t7</th>\n      <th>rolling_price_std_t30</th>\n      <th>rolling_skew_t30</th>\n      <th>rolling_kurt_t30</th>\n    </tr>\n  </thead>\n  <tbody>\n    <tr>\n      <th>0</th>\n      <td>2506</td>\n      <td>5</td>\n      <td>2</td>\n      <td>9</td>\n      <td>2</td>\n      <td>2013</td>\n      <td>7</td>\n      <td>29</td>\n      <td>18</td>\n      <td>3</td>\n      <td>...</td>\n      <td>NaN</td>\n      <td>NaN</td>\n      <td>NaN</td>\n      <td>NaN</td>\n      <td>NaN</td>\n      <td>NaN</td>\n      <td>NaN</td>\n      <td>NaN</td>\n      <td>NaN</td>\n      <td>NaN</td>\n    </tr>\n    <tr>\n      <th>1</th>\n      <td>2507</td>\n      <td>5</td>\n      <td>2</td>\n      <td>9</td>\n      <td>2</td>\n      <td>2013</td>\n      <td>7</td>\n      <td>29</td>\n      <td>18</td>\n      <td>3</td>\n      <td>...</td>\n      <td>NaN</td>\n      <td>NaN</td>\n      <td>NaN</td>\n      <td>NaN</td>\n      <td>NaN</td>\n      <td>NaN</td>\n      <td>NaN</td>\n      <td>NaN</td>\n      <td>NaN</td>\n      <td>NaN</td>\n    </tr>\n    <tr>\n      <th>2</th>\n      <td>2508</td>\n      <td>5</td>\n      <td>2</td>\n      <td>9</td>\n      <td>2</td>\n      <td>2013</td>\n      <td>7</td>\n      <td>29</td>\n      <td>18</td>\n      <td>3</td>\n      <td>...</td>\n      <td>NaN</td>\n      <td>NaN</td>\n      <td>NaN</td>\n      <td>NaN</td>\n      <td>NaN</td>\n      <td>NaN</td>\n      <td>NaN</td>\n      <td>NaN</td>\n      <td>NaN</td>\n      <td>NaN</td>\n    </tr>\n    <tr>\n      <th>3</th>\n      <td>2509</td>\n      <td>5</td>\n      <td>2</td>\n      <td>9</td>\n      <td>2</td>\n      <td>2013</td>\n      <td>7</td>\n      <td>29</td>\n      <td>18</td>\n      <td>3</td>\n      <td>...</td>\n      <td>NaN</td>\n      <td>NaN</td>\n      <td>NaN</td>\n      <td>NaN</td>\n      <td>NaN</td>\n      <td>NaN</td>\n      <td>NaN</td>\n      <td>NaN</td>\n      <td>NaN</td>\n      <td>NaN</td>\n    </tr>\n    <tr>\n      <th>4</th>\n      <td>2510</td>\n      <td>5</td>\n      <td>2</td>\n      <td>9</td>\n      <td>2</td>\n      <td>2013</td>\n      <td>7</td>\n      <td>29</td>\n      <td>18</td>\n      <td>3</td>\n      <td>...</td>\n      <td>NaN</td>\n      <td>NaN</td>\n      <td>NaN</td>\n      <td>NaN</td>\n      <td>NaN</td>\n      <td>NaN</td>\n      <td>NaN</td>\n      <td>NaN</td>\n      <td>NaN</td>\n      <td>NaN</td>\n    </tr>\n    <tr>\n      <th>...</th>\n      <td>...</td>\n      <td>...</td>\n      <td>...</td>\n      <td>...</td>\n      <td>...</td>\n      <td>...</td>\n      <td>...</td>\n      <td>...</td>\n      <td>...</td>\n      <td>...</td>\n      <td>...</td>\n      <td>...</td>\n      <td>...</td>\n      <td>...</td>\n      <td>...</td>\n      <td>...</td>\n      <td>...</td>\n      <td>...</td>\n      <td>...</td>\n      <td>...</td>\n      <td>...</td>\n    </tr>\n    <tr>\n      <th>31681085</th>\n      <td>1432</td>\n      <td>2</td>\n      <td>0</td>\n      <td>9</td>\n      <td>2</td>\n      <td>2016</td>\n      <td>5</td>\n      <td>20</td>\n      <td>22</td>\n      <td>6</td>\n      <td>...</td>\n      <td>0.200000</td>\n      <td>0.433333</td>\n      <td>0.616667</td>\n      <td>0.550861</td>\n      <td>0.0</td>\n      <td>0.0</td>\n      <td>0.0</td>\n      <td>0.0</td>\n      <td>2.758372</td>\n      <td>6.731192</td>\n    </tr>\n    <tr>\n      <th>31681086</th>\n      <td>1433</td>\n      <td>2</td>\n      <td>0</td>\n      <td>9</td>\n      <td>2</td>\n      <td>2016</td>\n      <td>5</td>\n      <td>20</td>\n      <td>22</td>\n      <td>6</td>\n      <td>...</td>\n      <td>0.300000</td>\n      <td>0.100000</td>\n      <td>0.050000</td>\n      <td>0.534983</td>\n      <td>0.0</td>\n      <td>0.0</td>\n      <td>0.0</td>\n      <td>0.0</td>\n      <td>1.621490</td>\n      <td>1.950452</td>\n    </tr>\n    <tr>\n      <th>31681087</th>\n      <td>1434</td>\n      <td>2</td>\n      <td>0</td>\n      <td>9</td>\n      <td>2</td>\n      <td>2016</td>\n      <td>5</td>\n      <td>20</td>\n      <td>22</td>\n      <td>6</td>\n      <td>...</td>\n      <td>0.866667</td>\n      <td>0.900000</td>\n      <td>0.761111</td>\n      <td>1.136642</td>\n      <td>0.0</td>\n      <td>0.0</td>\n      <td>0.0</td>\n      <td>0.0</td>\n      <td>1.485839</td>\n      <td>1.986668</td>\n    </tr>\n    <tr>\n      <th>31681088</th>\n      <td>1435</td>\n      <td>2</td>\n      <td>0</td>\n      <td>9</td>\n      <td>2</td>\n      <td>2016</td>\n      <td>5</td>\n      <td>20</td>\n      <td>22</td>\n      <td>6</td>\n      <td>...</td>\n      <td>1.066667</td>\n      <td>1.022222</td>\n      <td>1.338889</td>\n      <td>1.172481</td>\n      <td>0.0</td>\n      <td>0.0</td>\n      <td>0.0</td>\n      <td>0.0</td>\n      <td>0.963120</td>\n      <td>-0.021316</td>\n    </tr>\n    <tr>\n      <th>31681089</th>\n      <td>1436</td>\n      <td>2</td>\n      <td>0</td>\n      <td>9</td>\n      <td>2</td>\n      <td>2016</td>\n      <td>5</td>\n      <td>20</td>\n      <td>22</td>\n      <td>6</td>\n      <td>...</td>\n      <td>1.166667</td>\n      <td>1.566667</td>\n      <td>1.511111</td>\n      <td>1.821014</td>\n      <td>0.0</td>\n      <td>0.0</td>\n      <td>0.0</td>\n      <td>0.0</td>\n      <td>1.681152</td>\n      <td>2.517528</td>\n    </tr>\n  </tbody>\n</table>\n<p>31681090 rows × 33 columns</p>\n</div>"
     },
     "metadata": {},
     "execution_count": 5
    }
   ],
   "source": [
    "data[features]"
   ]
  },
  {
   "cell_type": "code",
   "execution_count": null,
   "metadata": {},
   "outputs": [],
   "source": []
  }
 ],
 "metadata": {
  "kernelspec": {
   "display_name": "ml_py36",
   "language": "python",
   "name": "ml_py36"
  },
  "language_info": {
   "codemirror_mode": {
    "name": "ipython",
    "version": 3
   },
   "file_extension": ".py",
   "mimetype": "text/x-python",
   "name": "python",
   "nbconvert_exporter": "python",
   "pygments_lexer": "ipython3",
   "version": "3.6.10-final"
  }
 },
 "nbformat": 4,
 "nbformat_minor": 2
}