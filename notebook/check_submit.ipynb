{
 "nbformat": 4,
 "nbformat_minor": 2,
 "metadata": {
  "language_info": {
   "name": "python",
   "codemirror_mode": {
    "name": "ipython",
    "version": 3
   },
   "version": "3.6.10-final"
  },
  "orig_nbformat": 2,
  "file_extension": ".py",
  "mimetype": "text/x-python",
  "name": "python",
  "npconvert_exporter": "python",
  "pygments_lexer": "ipython3",
  "version": 3,
  "kernelspec": {
   "name": "python361064bitmlpy36conda0fcedee9e1d74883895bf8fd64a68321",
   "display_name": "Python 3.6.10 64-bit ('mlpy36': conda)"
  }
 },
 "cells": [
  {
   "cell_type": "code",
   "execution_count": 28,
   "metadata": {},
   "outputs": [],
   "source": [
    "import pandas as pd\n",
    "import gc"
   ]
  },
  {
   "cell_type": "code",
   "execution_count": 29,
   "metadata": {},
   "outputs": [],
   "source": [
    "sub_p = pd.read_pickle('../data/submit/simple_fe_submission.pkl')"
   ]
  },
  {
   "cell_type": "code",
   "execution_count": 30,
   "metadata": {},
   "outputs": [],
   "source": [
    "def postprocessing(id_sub:pd.DataFrame):\n",
    "\n",
    "    all_list = []\n",
    "    for id,data in id_sub.groupby('id'):\n",
    "        data_list = [id]\n",
    "        data_list += [t for t in data['']]\n",
    "        all_list.append(data_list)\n",
    "    sub = pd.DataFrame(all_list)\n",
    "\n",
    "    col_name = ['id']\n",
    "    col_name += ['F'+str(i+1) for i in range(28)]\n",
    "    sub.columns = col_name\n",
    "\n",
    "    # sort\n",
    "    sample_sub = pd.read_csv('../data/submit/sample_submission.csv.zip')\n",
    "    l_order = list(sample_sub['id'].values)\n",
    "    sub['order'] = sub['id'].apply(lambda x: l_order.index(x) if x in l_order else -1)\n",
    "    sub = sub.sort_values('order').reset_index(drop=True).drop('order',axis=1)\n",
    "\n",
    "    del sample_sub\n",
    "    gc.collect()\n",
    "\n",
    "    return sub"
   ]
  },
  {
   "cell_type": "code",
   "execution_count": 31,
   "metadata": {},
   "outputs": [],
   "source": [
    "sub = postprocessing(sub_p)"
   ]
  },
  {
   "cell_type": "code",
   "execution_count": 32,
   "metadata": {},
   "outputs": [],
   "source": [
    "sub = sub.fillna(0)"
   ]
  },
  {
   "cell_type": "code",
   "execution_count": 33,
   "metadata": {},
   "outputs": [
    {
     "data": {
      "text/html": "<div>\n<style scoped>\n    .dataframe tbody tr th:only-of-type {\n        vertical-align: middle;\n    }\n\n    .dataframe tbody tr th {\n        vertical-align: top;\n    }\n\n    .dataframe thead th {\n        text-align: right;\n    }\n</style>\n<table border=\"1\" class=\"dataframe\">\n  <thead>\n    <tr style=\"text-align: right;\">\n      <th></th>\n      <th>id</th>\n      <th>F1</th>\n      <th>F2</th>\n      <th>F3</th>\n      <th>F4</th>\n      <th>F5</th>\n      <th>F6</th>\n      <th>F7</th>\n      <th>F8</th>\n      <th>F9</th>\n      <th>...</th>\n      <th>F19</th>\n      <th>F20</th>\n      <th>F21</th>\n      <th>F22</th>\n      <th>F23</th>\n      <th>F24</th>\n      <th>F25</th>\n      <th>F26</th>\n      <th>F27</th>\n      <th>F28</th>\n    </tr>\n  </thead>\n  <tbody>\n    <tr>\n      <th>0</th>\n      <td>HOBBIES_1_001_CA_1_validation</td>\n      <td>0.812059</td>\n      <td>0.107720</td>\n      <td>0.454978</td>\n      <td>1.623761</td>\n      <td>1.106642</td>\n      <td>0.647518</td>\n      <td>0.291698</td>\n      <td>7.145404</td>\n      <td>0.835287</td>\n      <td>...</td>\n      <td>8.231224</td>\n      <td>0.167804</td>\n      <td>0.438934</td>\n      <td>0.387555</td>\n      <td>1.145218</td>\n      <td>0.133417</td>\n      <td>0.537536</td>\n      <td>0.197305</td>\n      <td>0.322295</td>\n      <td>0.618666</td>\n    </tr>\n    <tr>\n      <th>1</th>\n      <td>HOBBIES_1_002_CA_1_validation</td>\n      <td>1.342265</td>\n      <td>5.353836</td>\n      <td>0.198042</td>\n      <td>2.553005</td>\n      <td>0.135714</td>\n      <td>0.469255</td>\n      <td>0.195745</td>\n      <td>0.887811</td>\n      <td>0.569475</td>\n      <td>...</td>\n      <td>1.157407</td>\n      <td>14.113565</td>\n      <td>0.403875</td>\n      <td>1.716452</td>\n      <td>0.135714</td>\n      <td>0.165507</td>\n      <td>0.273282</td>\n      <td>0.083624</td>\n      <td>1.907558</td>\n      <td>1.235674</td>\n    </tr>\n    <tr>\n      <th>2</th>\n      <td>HOBBIES_1_003_CA_1_validation</td>\n      <td>0.501503</td>\n      <td>0.357653</td>\n      <td>0.378431</td>\n      <td>0.067158</td>\n      <td>0.151363</td>\n      <td>0.127649</td>\n      <td>1.544360</td>\n      <td>0.062673</td>\n      <td>0.673622</td>\n      <td>...</td>\n      <td>0.458831</td>\n      <td>1.337138</td>\n      <td>0.493350</td>\n      <td>0.889529</td>\n      <td>0.625265</td>\n      <td>0.084641</td>\n      <td>0.649361</td>\n      <td>1.111006</td>\n      <td>1.192435</td>\n      <td>0.940360</td>\n    </tr>\n    <tr>\n      <th>3</th>\n      <td>HOBBIES_1_004_CA_1_validation</td>\n      <td>0.195722</td>\n      <td>0.380877</td>\n      <td>1.687550</td>\n      <td>4.416521</td>\n      <td>1.721575</td>\n      <td>0.059359</td>\n      <td>0.197305</td>\n      <td>0.042517</td>\n      <td>0.010837</td>\n      <td>...</td>\n      <td>0.198322</td>\n      <td>0.813215</td>\n      <td>0.585006</td>\n      <td>0.151083</td>\n      <td>0.354339</td>\n      <td>0.180353</td>\n      <td>0.153660</td>\n      <td>0.062673</td>\n      <td>0.422231</td>\n      <td>0.719400</td>\n    </tr>\n    <tr>\n      <th>4</th>\n      <td>HOBBIES_1_005_CA_1_validation</td>\n      <td>0.086938</td>\n      <td>0.290021</td>\n      <td>0.784958</td>\n      <td>0.702602</td>\n      <td>0.480100</td>\n      <td>2.378637</td>\n      <td>0.726389</td>\n      <td>0.976067</td>\n      <td>0.465941</td>\n      <td>...</td>\n      <td>0.227706</td>\n      <td>0.060376</td>\n      <td>1.010761</td>\n      <td>0.079629</td>\n      <td>0.766103</td>\n      <td>0.662945</td>\n      <td>1.622970</td>\n      <td>0.992103</td>\n      <td>0.151363</td>\n      <td>0.749946</td>\n    </tr>\n  </tbody>\n</table>\n<p>5 rows × 29 columns</p>\n</div>",
      "text/plain": "                              id        F1        F2        F3        F4  \\\n0  HOBBIES_1_001_CA_1_validation  0.812059  0.107720  0.454978  1.623761   \n1  HOBBIES_1_002_CA_1_validation  1.342265  5.353836  0.198042  2.553005   \n2  HOBBIES_1_003_CA_1_validation  0.501503  0.357653  0.378431  0.067158   \n3  HOBBIES_1_004_CA_1_validation  0.195722  0.380877  1.687550  4.416521   \n4  HOBBIES_1_005_CA_1_validation  0.086938  0.290021  0.784958  0.702602   \n\n         F5        F6        F7        F8        F9  ...       F19        F20  \\\n0  1.106642  0.647518  0.291698  7.145404  0.835287  ...  8.231224   0.167804   \n1  0.135714  0.469255  0.195745  0.887811  0.569475  ...  1.157407  14.113565   \n2  0.151363  0.127649  1.544360  0.062673  0.673622  ...  0.458831   1.337138   \n3  1.721575  0.059359  0.197305  0.042517  0.010837  ...  0.198322   0.813215   \n4  0.480100  2.378637  0.726389  0.976067  0.465941  ...  0.227706   0.060376   \n\n        F21       F22       F23       F24       F25       F26       F27  \\\n0  0.438934  0.387555  1.145218  0.133417  0.537536  0.197305  0.322295   \n1  0.403875  1.716452  0.135714  0.165507  0.273282  0.083624  1.907558   \n2  0.493350  0.889529  0.625265  0.084641  0.649361  1.111006  1.192435   \n3  0.585006  0.151083  0.354339  0.180353  0.153660  0.062673  0.422231   \n4  1.010761  0.079629  0.766103  0.662945  1.622970  0.992103  0.151363   \n\n        F28  \n0  0.618666  \n1  1.235674  \n2  0.940360  \n3  0.719400  \n4  0.749946  \n\n[5 rows x 29 columns]"
     },
     "execution_count": 33,
     "metadata": {},
     "output_type": "execute_result"
    }
   ],
   "source": [
    "sub.head()"
   ]
  },
  {
   "cell_type": "code",
   "execution_count": 34,
   "metadata": {},
   "outputs": [],
   "source": [
    "f_col = ['F'+str(i+1) for i in range(28)]"
   ]
  },
  {
   "cell_type": "code",
   "execution_count": 43,
   "metadata": {},
   "outputs": [],
   "source": [
    "all_sub = pd.DataFrame(sub.sum())"
   ]
  },
  {
   "cell_type": "code",
   "execution_count": 44,
   "metadata": {},
   "outputs": [
    {
     "data": {
      "text/html": "<div>\n<style scoped>\n    .dataframe tbody tr th:only-of-type {\n        vertical-align: middle;\n    }\n\n    .dataframe tbody tr th {\n        vertical-align: top;\n    }\n\n    .dataframe thead th {\n        text-align: right;\n    }\n</style>\n<table border=\"1\" class=\"dataframe\">\n  <thead>\n    <tr style=\"text-align: right;\">\n      <th></th>\n      <th>0</th>\n    </tr>\n  </thead>\n  <tbody>\n    <tr>\n      <th>id</th>\n      <td>HOBBIES_1_001_CA_1_validationHOBBIES_1_002_CA_...</td>\n    </tr>\n    <tr>\n      <th>F1</th>\n      <td>23537.7</td>\n    </tr>\n    <tr>\n      <th>F2</th>\n      <td>22665.9</td>\n    </tr>\n    <tr>\n      <th>F3</th>\n      <td>23535.7</td>\n    </tr>\n    <tr>\n      <th>F4</th>\n      <td>22723.7</td>\n    </tr>\n    <tr>\n      <th>F5</th>\n      <td>23492.7</td>\n    </tr>\n    <tr>\n      <th>F6</th>\n      <td>22776.4</td>\n    </tr>\n    <tr>\n      <th>F7</th>\n      <td>23436</td>\n    </tr>\n    <tr>\n      <th>F8</th>\n      <td>22957.1</td>\n    </tr>\n    <tr>\n      <th>F9</th>\n      <td>23488.1</td>\n    </tr>\n    <tr>\n      <th>F10</th>\n      <td>22817.9</td>\n    </tr>\n    <tr>\n      <th>F11</th>\n      <td>23566.7</td>\n    </tr>\n    <tr>\n      <th>F12</th>\n      <td>22756.2</td>\n    </tr>\n    <tr>\n      <th>F13</th>\n      <td>23453.4</td>\n    </tr>\n    <tr>\n      <th>F14</th>\n      <td>22713.1</td>\n    </tr>\n    <tr>\n      <th>F15</th>\n      <td>23513.2</td>\n    </tr>\n    <tr>\n      <th>F16</th>\n      <td>22771.1</td>\n    </tr>\n    <tr>\n      <th>F17</th>\n      <td>23549.7</td>\n    </tr>\n    <tr>\n      <th>F18</th>\n      <td>22819.9</td>\n    </tr>\n    <tr>\n      <th>F19</th>\n      <td>23532.1</td>\n    </tr>\n    <tr>\n      <th>F20</th>\n      <td>22778.3</td>\n    </tr>\n    <tr>\n      <th>F21</th>\n      <td>23504.3</td>\n    </tr>\n    <tr>\n      <th>F22</th>\n      <td>22653.2</td>\n    </tr>\n    <tr>\n      <th>F23</th>\n      <td>23586.1</td>\n    </tr>\n    <tr>\n      <th>F24</th>\n      <td>22742.8</td>\n    </tr>\n    <tr>\n      <th>F25</th>\n      <td>23539.4</td>\n    </tr>\n    <tr>\n      <th>F26</th>\n      <td>22747.1</td>\n    </tr>\n    <tr>\n      <th>F27</th>\n      <td>23529.4</td>\n    </tr>\n    <tr>\n      <th>F28</th>\n      <td>22715.5</td>\n    </tr>\n  </tbody>\n</table>\n</div>",
      "text/plain": "                                                     0\nid   HOBBIES_1_001_CA_1_validationHOBBIES_1_002_CA_...\nF1                                             23537.7\nF2                                             22665.9\nF3                                             23535.7\nF4                                             22723.7\nF5                                             23492.7\nF6                                             22776.4\nF7                                               23436\nF8                                             22957.1\nF9                                             23488.1\nF10                                            22817.9\nF11                                            23566.7\nF12                                            22756.2\nF13                                            23453.4\nF14                                            22713.1\nF15                                            23513.2\nF16                                            22771.1\nF17                                            23549.7\nF18                                            22819.9\nF19                                            23532.1\nF20                                            22778.3\nF21                                            23504.3\nF22                                            22653.2\nF23                                            23586.1\nF24                                            22742.8\nF25                                            23539.4\nF26                                            22747.1\nF27                                            23529.4\nF28                                            22715.5"
     },
     "execution_count": 44,
     "metadata": {},
     "output_type": "execute_result"
    }
   ],
   "source": [
    "all_sub"
   ]
  },
  {
   "cell_type": "code",
   "execution_count": null,
   "metadata": {},
   "outputs": [],
   "source": []
  },
  {
   "cell_type": "code",
   "execution_count": 16,
   "metadata": {},
   "outputs": [],
   "source": [
    "sample_sub = pd.read_csv('../data/submit/sample_submission.csv.zip')"
   ]
  },
  {
   "cell_type": "code",
   "execution_count": 20,
   "metadata": {},
   "outputs": [
    {
     "data": {
      "text/html": "<div>\n<style scoped>\n    .dataframe tbody tr th:only-of-type {\n        vertical-align: middle;\n    }\n\n    .dataframe tbody tr th {\n        vertical-align: top;\n    }\n\n    .dataframe thead th {\n        text-align: right;\n    }\n</style>\n<table border=\"1\" class=\"dataframe\">\n  <thead>\n    <tr style=\"text-align: right;\">\n      <th></th>\n      <th>id</th>\n      <th>F1</th>\n      <th>F2</th>\n      <th>F3</th>\n      <th>F4</th>\n      <th>F5</th>\n      <th>F6</th>\n      <th>F7</th>\n      <th>F8</th>\n      <th>F9</th>\n      <th>...</th>\n      <th>F19</th>\n      <th>F20</th>\n      <th>F21</th>\n      <th>F22</th>\n      <th>F23</th>\n      <th>F24</th>\n      <th>F25</th>\n      <th>F26</th>\n      <th>F27</th>\n      <th>F28</th>\n    </tr>\n  </thead>\n  <tbody>\n    <tr>\n      <th>60975</th>\n      <td>FOODS_3_823_WI_3_evaluation</td>\n      <td>0</td>\n      <td>0</td>\n      <td>0</td>\n      <td>0</td>\n      <td>0</td>\n      <td>0</td>\n      <td>0</td>\n      <td>0</td>\n      <td>0</td>\n      <td>...</td>\n      <td>0</td>\n      <td>0</td>\n      <td>0</td>\n      <td>0</td>\n      <td>0</td>\n      <td>0</td>\n      <td>0</td>\n      <td>0</td>\n      <td>0</td>\n      <td>0</td>\n    </tr>\n    <tr>\n      <th>60976</th>\n      <td>FOODS_3_824_WI_3_evaluation</td>\n      <td>0</td>\n      <td>0</td>\n      <td>0</td>\n      <td>0</td>\n      <td>0</td>\n      <td>0</td>\n      <td>0</td>\n      <td>0</td>\n      <td>0</td>\n      <td>...</td>\n      <td>0</td>\n      <td>0</td>\n      <td>0</td>\n      <td>0</td>\n      <td>0</td>\n      <td>0</td>\n      <td>0</td>\n      <td>0</td>\n      <td>0</td>\n      <td>0</td>\n    </tr>\n    <tr>\n      <th>60977</th>\n      <td>FOODS_3_825_WI_3_evaluation</td>\n      <td>0</td>\n      <td>0</td>\n      <td>0</td>\n      <td>0</td>\n      <td>0</td>\n      <td>0</td>\n      <td>0</td>\n      <td>0</td>\n      <td>0</td>\n      <td>...</td>\n      <td>0</td>\n      <td>0</td>\n      <td>0</td>\n      <td>0</td>\n      <td>0</td>\n      <td>0</td>\n      <td>0</td>\n      <td>0</td>\n      <td>0</td>\n      <td>0</td>\n    </tr>\n    <tr>\n      <th>60978</th>\n      <td>FOODS_3_826_WI_3_evaluation</td>\n      <td>0</td>\n      <td>0</td>\n      <td>0</td>\n      <td>0</td>\n      <td>0</td>\n      <td>0</td>\n      <td>0</td>\n      <td>0</td>\n      <td>0</td>\n      <td>...</td>\n      <td>0</td>\n      <td>0</td>\n      <td>0</td>\n      <td>0</td>\n      <td>0</td>\n      <td>0</td>\n      <td>0</td>\n      <td>0</td>\n      <td>0</td>\n      <td>0</td>\n    </tr>\n    <tr>\n      <th>60979</th>\n      <td>FOODS_3_827_WI_3_evaluation</td>\n      <td>0</td>\n      <td>0</td>\n      <td>0</td>\n      <td>0</td>\n      <td>0</td>\n      <td>0</td>\n      <td>0</td>\n      <td>0</td>\n      <td>0</td>\n      <td>...</td>\n      <td>0</td>\n      <td>0</td>\n      <td>0</td>\n      <td>0</td>\n      <td>0</td>\n      <td>0</td>\n      <td>0</td>\n      <td>0</td>\n      <td>0</td>\n      <td>0</td>\n    </tr>\n  </tbody>\n</table>\n<p>5 rows × 29 columns</p>\n</div>",
      "text/plain": "                                id  F1  F2  F3  F4  F5  F6  F7  F8  F9  ...  \\\n60975  FOODS_3_823_WI_3_evaluation   0   0   0   0   0   0   0   0   0  ...   \n60976  FOODS_3_824_WI_3_evaluation   0   0   0   0   0   0   0   0   0  ...   \n60977  FOODS_3_825_WI_3_evaluation   0   0   0   0   0   0   0   0   0  ...   \n60978  FOODS_3_826_WI_3_evaluation   0   0   0   0   0   0   0   0   0  ...   \n60979  FOODS_3_827_WI_3_evaluation   0   0   0   0   0   0   0   0   0  ...   \n\n       F19  F20  F21  F22  F23  F24  F25  F26  F27  F28  \n60975    0    0    0    0    0    0    0    0    0    0  \n60976    0    0    0    0    0    0    0    0    0    0  \n60977    0    0    0    0    0    0    0    0    0    0  \n60978    0    0    0    0    0    0    0    0    0    0  \n60979    0    0    0    0    0    0    0    0    0    0  \n\n[5 rows x 29 columns]"
     },
     "execution_count": 20,
     "metadata": {},
     "output_type": "execute_result"
    }
   ],
   "source": [
    "sample_sub.tail()"
   ]
  },
  {
   "cell_type": "code",
   "execution_count": null,
   "metadata": {},
   "outputs": [],
   "source": []
  }
 ]
}