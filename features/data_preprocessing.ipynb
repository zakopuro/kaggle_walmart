{
 "nbformat": 4,
 "nbformat_minor": 2,
 "metadata": {
  "language_info": {
   "name": "python",
   "codemirror_mode": {
    "name": "ipython",
    "version": 3
   },
   "version": "3.6.8-final"
  },
  "orig_nbformat": 2,
  "file_extension": ".py",
  "mimetype": "text/x-python",
  "name": "python",
  "npconvert_exporter": "python",
  "pygments_lexer": "ipython3",
  "version": 3,
  "kernelspec": {
   "name": "python36864bit62ab06be618f4ea4bd9c6d1ed35ff2ff",
   "display_name": "Python 3.6.8 64-bit"
  }
 },
 "cells": [
  {
   "cell_type": "code",
   "execution_count": 1,
   "metadata": {},
   "outputs": [],
   "source": [
    "import pandas as pd\n",
    "import matplotlib.pyplot as plt\n",
    "import numpy as np"
   ]
  },
  {
   "cell_type": "code",
   "execution_count": 3,
   "metadata": {},
   "outputs": [],
   "source": [
    "df = pd.read_csv('../data/sales_train_validation.csv.zip')"
   ]
  },
  {
   "cell_type": "code",
   "execution_count": 4,
   "metadata": {},
   "outputs": [],
   "source": [
    "cal = pd.read_csv('../data/calendar.csv')\n",
    "sell = pd.read_csv('../data/sell_prices.csv.zip')"
   ]
  },
  {
   "cell_type": "code",
   "execution_count": 5,
   "metadata": {},
   "outputs": [
    {
     "data": {
      "text/plain": "58327370"
     },
     "execution_count": 5,
     "metadata": {},
     "output_type": "execute_result"
    }
   ],
   "source": [
    "df.shape[0] * 1913"
   ]
  },
  {
   "cell_type": "code",
   "execution_count": 6,
   "metadata": {},
   "outputs": [],
   "source": [
    "d_col = []\n",
    "for d in range(1,1914,1):\n",
    "    d_col.append('d_'+str(d))\n",
    "target = []\n",
    "for d in df[d_col].values:\n",
    "    for tar in d:\n",
    "        target.append(tar)"
   ]
  },
  {
   "cell_type": "code",
   "execution_count": 7,
   "metadata": {},
   "outputs": [],
   "source": [
    "n_df = pd.DataFrame()\n",
    "n_df['target'] = target"
   ]
  },
  {
   "cell_type": "code",
   "execution_count": 8,
   "metadata": {},
   "outputs": [],
   "source": [
    "id_list = []\n",
    "d_list = []\n",
    "item_list = []\n",
    "dept_list = []\n",
    "cat_list = []\n",
    "store_list = []\n",
    "state_list = []\n",
    "\n",
    "for id in df['id']:\n",
    "    id_list += [id for _ in range(len(d_col))]\n",
    "    d_list += [d for d in d_col]\n",
    "\n",
    "for item in df['item_id']:\n",
    "    item_list += [item for _ in range(len(d_col))]\n",
    "\n",
    "for dept in df['dept_id']:\n",
    "    dept_list += [dept for _ in range(len(d_col))]\n",
    "\n",
    "for cat in df['cat_id']:\n",
    "    cat_list += [cat for _ in range(len(d_col))]\n",
    "\n",
    "for store in df['store_id']:\n",
    "    store_list += [store for _ in range(len(d_col))]\n",
    "\n",
    "for state in df['state_id']:\n",
    "    state_list += [state for _ in range(len(d_col))]"
   ]
  },
  {
   "cell_type": "code",
   "execution_count": 9,
   "metadata": {},
   "outputs": [],
   "source": [
    "n_df['d'] = d_list\n",
    "n_df['id'] = id_list\n",
    "n_df['item_id'] = item_list\n",
    "n_df['dept_id'] = dept_list\n",
    "n_df['cat_id'] = cat_list\n",
    "n_df['store_id'] = store_list\n",
    "n_df['state_id'] = state_list"
   ]
  },
  {
   "cell_type": "code",
   "execution_count": 10,
   "metadata": {},
   "outputs": [],
   "source": [
    "# n_df.to_pickle('../data/reshape_train_val.pkl')"
   ]
  },
  {
   "cell_type": "code",
   "execution_count": 11,
   "metadata": {},
   "outputs": [
    {
     "data": {
      "text/html": "<div>\n<style scoped>\n    .dataframe tbody tr th:only-of-type {\n        vertical-align: middle;\n    }\n\n    .dataframe tbody tr th {\n        vertical-align: top;\n    }\n\n    .dataframe thead th {\n        text-align: right;\n    }\n</style>\n<table border=\"1\" class=\"dataframe\">\n  <thead>\n    <tr style=\"text-align: right;\">\n      <th></th>\n      <th>date</th>\n      <th>wm_yr_wk</th>\n      <th>weekday</th>\n      <th>wday</th>\n      <th>month</th>\n      <th>year</th>\n      <th>d</th>\n      <th>event_name_1</th>\n      <th>event_type_1</th>\n      <th>event_name_2</th>\n      <th>event_type_2</th>\n      <th>snap_CA</th>\n      <th>snap_TX</th>\n      <th>snap_WI</th>\n    </tr>\n  </thead>\n  <tbody>\n    <tr>\n      <th>0</th>\n      <td>2011-01-29</td>\n      <td>11101</td>\n      <td>Saturday</td>\n      <td>1</td>\n      <td>1</td>\n      <td>2011</td>\n      <td>d_1</td>\n      <td>NaN</td>\n      <td>NaN</td>\n      <td>NaN</td>\n      <td>NaN</td>\n      <td>0</td>\n      <td>0</td>\n      <td>0</td>\n    </tr>\n    <tr>\n      <th>1</th>\n      <td>2011-01-30</td>\n      <td>11101</td>\n      <td>Sunday</td>\n      <td>2</td>\n      <td>1</td>\n      <td>2011</td>\n      <td>d_2</td>\n      <td>NaN</td>\n      <td>NaN</td>\n      <td>NaN</td>\n      <td>NaN</td>\n      <td>0</td>\n      <td>0</td>\n      <td>0</td>\n    </tr>\n    <tr>\n      <th>2</th>\n      <td>2011-01-31</td>\n      <td>11101</td>\n      <td>Monday</td>\n      <td>3</td>\n      <td>1</td>\n      <td>2011</td>\n      <td>d_3</td>\n      <td>NaN</td>\n      <td>NaN</td>\n      <td>NaN</td>\n      <td>NaN</td>\n      <td>0</td>\n      <td>0</td>\n      <td>0</td>\n    </tr>\n    <tr>\n      <th>3</th>\n      <td>2011-02-01</td>\n      <td>11101</td>\n      <td>Tuesday</td>\n      <td>4</td>\n      <td>2</td>\n      <td>2011</td>\n      <td>d_4</td>\n      <td>NaN</td>\n      <td>NaN</td>\n      <td>NaN</td>\n      <td>NaN</td>\n      <td>1</td>\n      <td>1</td>\n      <td>0</td>\n    </tr>\n    <tr>\n      <th>4</th>\n      <td>2011-02-02</td>\n      <td>11101</td>\n      <td>Wednesday</td>\n      <td>5</td>\n      <td>2</td>\n      <td>2011</td>\n      <td>d_5</td>\n      <td>NaN</td>\n      <td>NaN</td>\n      <td>NaN</td>\n      <td>NaN</td>\n      <td>1</td>\n      <td>0</td>\n      <td>1</td>\n    </tr>\n  </tbody>\n</table>\n</div>",
      "text/plain": "         date  wm_yr_wk    weekday  wday  month  year    d event_name_1  \\\n0  2011-01-29     11101   Saturday     1      1  2011  d_1          NaN   \n1  2011-01-30     11101     Sunday     2      1  2011  d_2          NaN   \n2  2011-01-31     11101     Monday     3      1  2011  d_3          NaN   \n3  2011-02-01     11101    Tuesday     4      2  2011  d_4          NaN   \n4  2011-02-02     11101  Wednesday     5      2  2011  d_5          NaN   \n\n  event_type_1 event_name_2 event_type_2  snap_CA  snap_TX  snap_WI  \n0          NaN          NaN          NaN        0        0        0  \n1          NaN          NaN          NaN        0        0        0  \n2          NaN          NaN          NaN        0        0        0  \n3          NaN          NaN          NaN        1        1        0  \n4          NaN          NaN          NaN        1        0        1  "
     },
     "execution_count": 11,
     "metadata": {},
     "output_type": "execute_result"
    }
   ],
   "source": [
    "cal.head()"
   ]
  },
  {
   "cell_type": "code",
   "execution_count": 12,
   "metadata": {},
   "outputs": [],
   "source": [
    "cal_n_df = pd.merge(n_df,cal,on='d',how='left')"
   ]
  },
  {
   "cell_type": "code",
   "execution_count": 13,
   "metadata": {},
   "outputs": [
    {
     "data": {
      "text/html": "<div>\n<style scoped>\n    .dataframe tbody tr th:only-of-type {\n        vertical-align: middle;\n    }\n\n    .dataframe tbody tr th {\n        vertical-align: top;\n    }\n\n    .dataframe thead th {\n        text-align: right;\n    }\n</style>\n<table border=\"1\" class=\"dataframe\">\n  <thead>\n    <tr style=\"text-align: right;\">\n      <th></th>\n      <th>target</th>\n      <th>d</th>\n      <th>id</th>\n      <th>item_id</th>\n      <th>dept_id</th>\n      <th>cat_id</th>\n      <th>store_id</th>\n      <th>state_id</th>\n      <th>date</th>\n      <th>wm_yr_wk</th>\n      <th>...</th>\n      <th>wday</th>\n      <th>month</th>\n      <th>year</th>\n      <th>event_name_1</th>\n      <th>event_type_1</th>\n      <th>event_name_2</th>\n      <th>event_type_2</th>\n      <th>snap_CA</th>\n      <th>snap_TX</th>\n      <th>snap_WI</th>\n    </tr>\n  </thead>\n  <tbody>\n    <tr>\n      <th>0</th>\n      <td>0</td>\n      <td>d_1</td>\n      <td>HOBBIES_1_001_CA_1_validation</td>\n      <td>HOBBIES_1_001</td>\n      <td>HOBBIES_1</td>\n      <td>HOBBIES</td>\n      <td>CA_1</td>\n      <td>CA</td>\n      <td>2011-01-29</td>\n      <td>11101</td>\n      <td>...</td>\n      <td>1</td>\n      <td>1</td>\n      <td>2011</td>\n      <td>NaN</td>\n      <td>NaN</td>\n      <td>NaN</td>\n      <td>NaN</td>\n      <td>0</td>\n      <td>0</td>\n      <td>0</td>\n    </tr>\n    <tr>\n      <th>1</th>\n      <td>0</td>\n      <td>d_2</td>\n      <td>HOBBIES_1_001_CA_1_validation</td>\n      <td>HOBBIES_1_001</td>\n      <td>HOBBIES_1</td>\n      <td>HOBBIES</td>\n      <td>CA_1</td>\n      <td>CA</td>\n      <td>2011-01-30</td>\n      <td>11101</td>\n      <td>...</td>\n      <td>2</td>\n      <td>1</td>\n      <td>2011</td>\n      <td>NaN</td>\n      <td>NaN</td>\n      <td>NaN</td>\n      <td>NaN</td>\n      <td>0</td>\n      <td>0</td>\n      <td>0</td>\n    </tr>\n    <tr>\n      <th>2</th>\n      <td>0</td>\n      <td>d_3</td>\n      <td>HOBBIES_1_001_CA_1_validation</td>\n      <td>HOBBIES_1_001</td>\n      <td>HOBBIES_1</td>\n      <td>HOBBIES</td>\n      <td>CA_1</td>\n      <td>CA</td>\n      <td>2011-01-31</td>\n      <td>11101</td>\n      <td>...</td>\n      <td>3</td>\n      <td>1</td>\n      <td>2011</td>\n      <td>NaN</td>\n      <td>NaN</td>\n      <td>NaN</td>\n      <td>NaN</td>\n      <td>0</td>\n      <td>0</td>\n      <td>0</td>\n    </tr>\n    <tr>\n      <th>3</th>\n      <td>0</td>\n      <td>d_4</td>\n      <td>HOBBIES_1_001_CA_1_validation</td>\n      <td>HOBBIES_1_001</td>\n      <td>HOBBIES_1</td>\n      <td>HOBBIES</td>\n      <td>CA_1</td>\n      <td>CA</td>\n      <td>2011-02-01</td>\n      <td>11101</td>\n      <td>...</td>\n      <td>4</td>\n      <td>2</td>\n      <td>2011</td>\n      <td>NaN</td>\n      <td>NaN</td>\n      <td>NaN</td>\n      <td>NaN</td>\n      <td>1</td>\n      <td>1</td>\n      <td>0</td>\n    </tr>\n    <tr>\n      <th>4</th>\n      <td>0</td>\n      <td>d_5</td>\n      <td>HOBBIES_1_001_CA_1_validation</td>\n      <td>HOBBIES_1_001</td>\n      <td>HOBBIES_1</td>\n      <td>HOBBIES</td>\n      <td>CA_1</td>\n      <td>CA</td>\n      <td>2011-02-02</td>\n      <td>11101</td>\n      <td>...</td>\n      <td>5</td>\n      <td>2</td>\n      <td>2011</td>\n      <td>NaN</td>\n      <td>NaN</td>\n      <td>NaN</td>\n      <td>NaN</td>\n      <td>1</td>\n      <td>0</td>\n      <td>1</td>\n    </tr>\n  </tbody>\n</table>\n<p>5 rows × 21 columns</p>\n</div>",
      "text/plain": "   target    d                             id        item_id    dept_id  \\\n0       0  d_1  HOBBIES_1_001_CA_1_validation  HOBBIES_1_001  HOBBIES_1   \n1       0  d_2  HOBBIES_1_001_CA_1_validation  HOBBIES_1_001  HOBBIES_1   \n2       0  d_3  HOBBIES_1_001_CA_1_validation  HOBBIES_1_001  HOBBIES_1   \n3       0  d_4  HOBBIES_1_001_CA_1_validation  HOBBIES_1_001  HOBBIES_1   \n4       0  d_5  HOBBIES_1_001_CA_1_validation  HOBBIES_1_001  HOBBIES_1   \n\n    cat_id store_id state_id        date  wm_yr_wk  ... wday  month  year  \\\n0  HOBBIES     CA_1       CA  2011-01-29     11101  ...    1      1  2011   \n1  HOBBIES     CA_1       CA  2011-01-30     11101  ...    2      1  2011   \n2  HOBBIES     CA_1       CA  2011-01-31     11101  ...    3      1  2011   \n3  HOBBIES     CA_1       CA  2011-02-01     11101  ...    4      2  2011   \n4  HOBBIES     CA_1       CA  2011-02-02     11101  ...    5      2  2011   \n\n   event_name_1 event_type_1 event_name_2 event_type_2 snap_CA  snap_TX  \\\n0           NaN          NaN          NaN          NaN       0        0   \n1           NaN          NaN          NaN          NaN       0        0   \n2           NaN          NaN          NaN          NaN       0        0   \n3           NaN          NaN          NaN          NaN       1        1   \n4           NaN          NaN          NaN          NaN       1        0   \n\n   snap_WI  \n0        0  \n1        0  \n2        0  \n3        0  \n4        1  \n\n[5 rows x 21 columns]"
     },
     "execution_count": 13,
     "metadata": {},
     "output_type": "execute_result"
    }
   ],
   "source": [
    "cal_n_df.head()"
   ]
  },
  {
   "cell_type": "code",
   "execution_count": 14,
   "metadata": {},
   "outputs": [
    {
     "data": {
      "text/plain": "(6841121, 4)"
     },
     "execution_count": 14,
     "metadata": {},
     "output_type": "execute_result"
    }
   ],
   "source": [
    "sell.shape"
   ]
  },
  {
   "cell_type": "code",
   "execution_count": 15,
   "metadata": {},
   "outputs": [],
   "source": [
    "sell_cal_n_df = pd.merge(cal_n_df,sell,on=['store_id','item_id','wm_yr_wk'],how='left')"
   ]
  },
  {
   "cell_type": "code",
   "execution_count": 16,
   "metadata": {},
   "outputs": [
    {
     "data": {
      "text/html": "<div>\n<style scoped>\n    .dataframe tbody tr th:only-of-type {\n        vertical-align: middle;\n    }\n\n    .dataframe tbody tr th {\n        vertical-align: top;\n    }\n\n    .dataframe thead th {\n        text-align: right;\n    }\n</style>\n<table border=\"1\" class=\"dataframe\">\n  <thead>\n    <tr style=\"text-align: right;\">\n      <th></th>\n      <th>target</th>\n      <th>d</th>\n      <th>id</th>\n      <th>item_id</th>\n      <th>dept_id</th>\n      <th>cat_id</th>\n      <th>store_id</th>\n      <th>state_id</th>\n      <th>date</th>\n      <th>wm_yr_wk</th>\n      <th>...</th>\n      <th>month</th>\n      <th>year</th>\n      <th>event_name_1</th>\n      <th>event_type_1</th>\n      <th>event_name_2</th>\n      <th>event_type_2</th>\n      <th>snap_CA</th>\n      <th>snap_TX</th>\n      <th>snap_WI</th>\n      <th>sell_price</th>\n    </tr>\n  </thead>\n  <tbody>\n    <tr>\n      <th>0</th>\n      <td>0</td>\n      <td>d_1</td>\n      <td>HOBBIES_1_001_CA_1_validation</td>\n      <td>HOBBIES_1_001</td>\n      <td>HOBBIES_1</td>\n      <td>HOBBIES</td>\n      <td>CA_1</td>\n      <td>CA</td>\n      <td>2011-01-29</td>\n      <td>11101</td>\n      <td>...</td>\n      <td>1</td>\n      <td>2011</td>\n      <td>NaN</td>\n      <td>NaN</td>\n      <td>NaN</td>\n      <td>NaN</td>\n      <td>0</td>\n      <td>0</td>\n      <td>0</td>\n      <td>NaN</td>\n    </tr>\n    <tr>\n      <th>1</th>\n      <td>0</td>\n      <td>d_2</td>\n      <td>HOBBIES_1_001_CA_1_validation</td>\n      <td>HOBBIES_1_001</td>\n      <td>HOBBIES_1</td>\n      <td>HOBBIES</td>\n      <td>CA_1</td>\n      <td>CA</td>\n      <td>2011-01-30</td>\n      <td>11101</td>\n      <td>...</td>\n      <td>1</td>\n      <td>2011</td>\n      <td>NaN</td>\n      <td>NaN</td>\n      <td>NaN</td>\n      <td>NaN</td>\n      <td>0</td>\n      <td>0</td>\n      <td>0</td>\n      <td>NaN</td>\n    </tr>\n    <tr>\n      <th>2</th>\n      <td>0</td>\n      <td>d_3</td>\n      <td>HOBBIES_1_001_CA_1_validation</td>\n      <td>HOBBIES_1_001</td>\n      <td>HOBBIES_1</td>\n      <td>HOBBIES</td>\n      <td>CA_1</td>\n      <td>CA</td>\n      <td>2011-01-31</td>\n      <td>11101</td>\n      <td>...</td>\n      <td>1</td>\n      <td>2011</td>\n      <td>NaN</td>\n      <td>NaN</td>\n      <td>NaN</td>\n      <td>NaN</td>\n      <td>0</td>\n      <td>0</td>\n      <td>0</td>\n      <td>NaN</td>\n    </tr>\n    <tr>\n      <th>3</th>\n      <td>0</td>\n      <td>d_4</td>\n      <td>HOBBIES_1_001_CA_1_validation</td>\n      <td>HOBBIES_1_001</td>\n      <td>HOBBIES_1</td>\n      <td>HOBBIES</td>\n      <td>CA_1</td>\n      <td>CA</td>\n      <td>2011-02-01</td>\n      <td>11101</td>\n      <td>...</td>\n      <td>2</td>\n      <td>2011</td>\n      <td>NaN</td>\n      <td>NaN</td>\n      <td>NaN</td>\n      <td>NaN</td>\n      <td>1</td>\n      <td>1</td>\n      <td>0</td>\n      <td>NaN</td>\n    </tr>\n    <tr>\n      <th>4</th>\n      <td>0</td>\n      <td>d_5</td>\n      <td>HOBBIES_1_001_CA_1_validation</td>\n      <td>HOBBIES_1_001</td>\n      <td>HOBBIES_1</td>\n      <td>HOBBIES</td>\n      <td>CA_1</td>\n      <td>CA</td>\n      <td>2011-02-02</td>\n      <td>11101</td>\n      <td>...</td>\n      <td>2</td>\n      <td>2011</td>\n      <td>NaN</td>\n      <td>NaN</td>\n      <td>NaN</td>\n      <td>NaN</td>\n      <td>1</td>\n      <td>0</td>\n      <td>1</td>\n      <td>NaN</td>\n    </tr>\n  </tbody>\n</table>\n<p>5 rows × 22 columns</p>\n</div>",
      "text/plain": "   target    d                             id        item_id    dept_id  \\\n0       0  d_1  HOBBIES_1_001_CA_1_validation  HOBBIES_1_001  HOBBIES_1   \n1       0  d_2  HOBBIES_1_001_CA_1_validation  HOBBIES_1_001  HOBBIES_1   \n2       0  d_3  HOBBIES_1_001_CA_1_validation  HOBBIES_1_001  HOBBIES_1   \n3       0  d_4  HOBBIES_1_001_CA_1_validation  HOBBIES_1_001  HOBBIES_1   \n4       0  d_5  HOBBIES_1_001_CA_1_validation  HOBBIES_1_001  HOBBIES_1   \n\n    cat_id store_id state_id        date  wm_yr_wk  ... month  year  \\\n0  HOBBIES     CA_1       CA  2011-01-29     11101  ...     1  2011   \n1  HOBBIES     CA_1       CA  2011-01-30     11101  ...     1  2011   \n2  HOBBIES     CA_1       CA  2011-01-31     11101  ...     1  2011   \n3  HOBBIES     CA_1       CA  2011-02-01     11101  ...     2  2011   \n4  HOBBIES     CA_1       CA  2011-02-02     11101  ...     2  2011   \n\n   event_name_1  event_type_1 event_name_2 event_type_2 snap_CA snap_TX  \\\n0           NaN           NaN          NaN          NaN       0       0   \n1           NaN           NaN          NaN          NaN       0       0   \n2           NaN           NaN          NaN          NaN       0       0   \n3           NaN           NaN          NaN          NaN       1       1   \n4           NaN           NaN          NaN          NaN       1       0   \n\n   snap_WI  sell_price  \n0        0         NaN  \n1        0         NaN  \n2        0         NaN  \n3        0         NaN  \n4        1         NaN  \n\n[5 rows x 22 columns]"
     },
     "execution_count": 16,
     "metadata": {},
     "output_type": "execute_result"
    }
   ],
   "source": [
    "sell_cal_n_df.head()"
   ]
  },
  {
   "cell_type": "code",
   "execution_count": 19,
   "metadata": {},
   "outputs": [],
   "source": [
    "def reduce_mem_usage(df, verbose=True):\n",
    "    numerics = ['int16', 'int32', 'int64', 'float16', 'float32', 'float64']\n",
    "    start_mem = df.memory_usage().sum() / 1024**2    \n",
    "    for col in df.columns:\n",
    "        col_type = df[col].dtypes\n",
    "        if col_type in numerics:\n",
    "            c_min = df[col].min()\n",
    "            c_max = df[col].max()\n",
    "            if str(col_type)[:3] == 'int':\n",
    "                if c_min > np.iinfo(np.int8).min and c_max < np.iinfo(np.int8).max:\n",
    "                    df[col] = df[col].astype(np.int8)\n",
    "                elif c_min > np.iinfo(np.int16).min and c_max < np.iinfo(np.int16).max:\n",
    "                    df[col] = df[col].astype(np.int16)\n",
    "                elif c_min > np.iinfo(np.int32).min and c_max < np.iinfo(np.int32).max:\n",
    "                    df[col] = df[col].astype(np.int32)\n",
    "                elif c_min > np.iinfo(np.int64).min and c_max < np.iinfo(np.int64).max:\n",
    "                    df[col] = df[col].astype(np.int64)  \n",
    "            else:\n",
    "                if c_min > np.finfo(np.float16).min and c_max < np.finfo(np.float16).max:\n",
    "                    df[col] = df[col].astype(np.float16)\n",
    "                elif c_min > np.finfo(np.float32).min and c_max < np.finfo(np.float32).max:\n",
    "                    df[col] = df[col].astype(np.float32)\n",
    "                else:\n",
    "                    df[col] = df[col].astype(np.float64)    \n",
    "    end_mem = df.memory_usage().sum() / 1024**2\n",
    "    if verbose: print('Mem. usage decreased to {:5.2f} Mb ({:.1f}% reduction)'.format(end_mem, 100 * (start_mem - end_mem) / start_mem))\n",
    "    return df"
   ]
  },
  {
   "cell_type": "code",
   "execution_count": 20,
   "metadata": {},
   "outputs": [
    {
     "name": "stdout",
     "output_type": "stream",
     "text": "Mem. usage decreased to 6953.16 Mb (32.1% reduction)\n"
    }
   ],
   "source": [
    "sell_cal_n_df = reduce_mem_usage(sell_cal_n_df)"
   ]
  },
  {
   "cell_type": "code",
   "execution_count": 21,
   "metadata": {},
   "outputs": [],
   "source": [
    "# sell_cal_n_df.to_pickle('../data/all_train_val.pkl')\n",
    "sell_cal_n_df.to_csv('../data/all_train_val.csv', index=False)"
   ]
  },
  {
   "cell_type": "code",
   "execution_count": 25,
   "metadata": {},
   "outputs": [],
   "source": [
    "sell_cal_n_df.to_csv('../data/all_train_val.csv.gz', index=False, compression='gzip')"
   ]
  },
  {
   "cell_type": "code",
   "execution_count": 26,
   "metadata": {},
   "outputs": [],
   "source": [
    "sell_cal_n_df.to_pickle('../data/all_train_val.pkl')"
   ]
  },
  {
   "cell_type": "code",
   "execution_count": 27,
   "metadata": {},
   "outputs": [
    {
     "data": {
      "text/html": "<div>\n<style scoped>\n    .dataframe tbody tr th:only-of-type {\n        vertical-align: middle;\n    }\n\n    .dataframe tbody tr th {\n        vertical-align: top;\n    }\n\n    .dataframe thead th {\n        text-align: right;\n    }\n</style>\n<table border=\"1\" class=\"dataframe\">\n  <thead>\n    <tr style=\"text-align: right;\">\n      <th></th>\n      <th>target</th>\n      <th>d</th>\n      <th>id</th>\n      <th>item_id</th>\n      <th>dept_id</th>\n      <th>cat_id</th>\n      <th>store_id</th>\n      <th>state_id</th>\n      <th>date</th>\n      <th>wm_yr_wk</th>\n      <th>...</th>\n      <th>month</th>\n      <th>year</th>\n      <th>event_name_1</th>\n      <th>event_type_1</th>\n      <th>event_name_2</th>\n      <th>event_type_2</th>\n      <th>snap_CA</th>\n      <th>snap_TX</th>\n      <th>snap_WI</th>\n      <th>sell_price</th>\n    </tr>\n  </thead>\n  <tbody>\n    <tr>\n      <th>0</th>\n      <td>0</td>\n      <td>d_1</td>\n      <td>HOBBIES_1_001_CA_1_validation</td>\n      <td>HOBBIES_1_001</td>\n      <td>HOBBIES_1</td>\n      <td>HOBBIES</td>\n      <td>CA_1</td>\n      <td>CA</td>\n      <td>2011-01-29</td>\n      <td>11101</td>\n      <td>...</td>\n      <td>1</td>\n      <td>2011</td>\n      <td>NaN</td>\n      <td>NaN</td>\n      <td>NaN</td>\n      <td>NaN</td>\n      <td>0</td>\n      <td>0</td>\n      <td>0</td>\n      <td>NaN</td>\n    </tr>\n    <tr>\n      <th>1</th>\n      <td>0</td>\n      <td>d_2</td>\n      <td>HOBBIES_1_001_CA_1_validation</td>\n      <td>HOBBIES_1_001</td>\n      <td>HOBBIES_1</td>\n      <td>HOBBIES</td>\n      <td>CA_1</td>\n      <td>CA</td>\n      <td>2011-01-30</td>\n      <td>11101</td>\n      <td>...</td>\n      <td>1</td>\n      <td>2011</td>\n      <td>NaN</td>\n      <td>NaN</td>\n      <td>NaN</td>\n      <td>NaN</td>\n      <td>0</td>\n      <td>0</td>\n      <td>0</td>\n      <td>NaN</td>\n    </tr>\n    <tr>\n      <th>2</th>\n      <td>0</td>\n      <td>d_3</td>\n      <td>HOBBIES_1_001_CA_1_validation</td>\n      <td>HOBBIES_1_001</td>\n      <td>HOBBIES_1</td>\n      <td>HOBBIES</td>\n      <td>CA_1</td>\n      <td>CA</td>\n      <td>2011-01-31</td>\n      <td>11101</td>\n      <td>...</td>\n      <td>1</td>\n      <td>2011</td>\n      <td>NaN</td>\n      <td>NaN</td>\n      <td>NaN</td>\n      <td>NaN</td>\n      <td>0</td>\n      <td>0</td>\n      <td>0</td>\n      <td>NaN</td>\n    </tr>\n    <tr>\n      <th>3</th>\n      <td>0</td>\n      <td>d_4</td>\n      <td>HOBBIES_1_001_CA_1_validation</td>\n      <td>HOBBIES_1_001</td>\n      <td>HOBBIES_1</td>\n      <td>HOBBIES</td>\n      <td>CA_1</td>\n      <td>CA</td>\n      <td>2011-02-01</td>\n      <td>11101</td>\n      <td>...</td>\n      <td>2</td>\n      <td>2011</td>\n      <td>NaN</td>\n      <td>NaN</td>\n      <td>NaN</td>\n      <td>NaN</td>\n      <td>1</td>\n      <td>1</td>\n      <td>0</td>\n      <td>NaN</td>\n    </tr>\n    <tr>\n      <th>4</th>\n      <td>0</td>\n      <td>d_5</td>\n      <td>HOBBIES_1_001_CA_1_validation</td>\n      <td>HOBBIES_1_001</td>\n      <td>HOBBIES_1</td>\n      <td>HOBBIES</td>\n      <td>CA_1</td>\n      <td>CA</td>\n      <td>2011-02-02</td>\n      <td>11101</td>\n      <td>...</td>\n      <td>2</td>\n      <td>2011</td>\n      <td>NaN</td>\n      <td>NaN</td>\n      <td>NaN</td>\n      <td>NaN</td>\n      <td>1</td>\n      <td>0</td>\n      <td>1</td>\n      <td>NaN</td>\n    </tr>\n  </tbody>\n</table>\n<p>5 rows × 22 columns</p>\n</div>",
      "text/plain": "   target    d                             id        item_id    dept_id  \\\n0       0  d_1  HOBBIES_1_001_CA_1_validation  HOBBIES_1_001  HOBBIES_1   \n1       0  d_2  HOBBIES_1_001_CA_1_validation  HOBBIES_1_001  HOBBIES_1   \n2       0  d_3  HOBBIES_1_001_CA_1_validation  HOBBIES_1_001  HOBBIES_1   \n3       0  d_4  HOBBIES_1_001_CA_1_validation  HOBBIES_1_001  HOBBIES_1   \n4       0  d_5  HOBBIES_1_001_CA_1_validation  HOBBIES_1_001  HOBBIES_1   \n\n    cat_id store_id state_id        date  wm_yr_wk  ... month  year  \\\n0  HOBBIES     CA_1       CA  2011-01-29     11101  ...     1  2011   \n1  HOBBIES     CA_1       CA  2011-01-30     11101  ...     1  2011   \n2  HOBBIES     CA_1       CA  2011-01-31     11101  ...     1  2011   \n3  HOBBIES     CA_1       CA  2011-02-01     11101  ...     2  2011   \n4  HOBBIES     CA_1       CA  2011-02-02     11101  ...     2  2011   \n\n   event_name_1  event_type_1 event_name_2 event_type_2 snap_CA snap_TX  \\\n0           NaN           NaN          NaN          NaN       0       0   \n1           NaN           NaN          NaN          NaN       0       0   \n2           NaN           NaN          NaN          NaN       0       0   \n3           NaN           NaN          NaN          NaN       1       1   \n4           NaN           NaN          NaN          NaN       1       0   \n\n   snap_WI  sell_price  \n0        0         NaN  \n1        0         NaN  \n2        0         NaN  \n3        0         NaN  \n4        1         NaN  \n\n[5 rows x 22 columns]"
     },
     "execution_count": 27,
     "metadata": {},
     "output_type": "execute_result"
    }
   ],
   "source": [
    "sell_cal_n_df.head()"
   ]
  },
  {
   "cell_type": "code",
   "execution_count": 28,
   "metadata": {},
   "outputs": [],
   "source": [
    "sub = pd.read_csv('../data/sample_submission.csv.zip')"
   ]
  },
  {
   "cell_type": "code",
   "execution_count": 32,
   "metadata": {},
   "outputs": [],
   "source": [
    "# cal['d']"
   ]
  },
  {
   "cell_type": "code",
   "execution_count": 33,
   "metadata": {},
   "outputs": [
    {
     "data": {
      "text/html": "<div>\n<style scoped>\n    .dataframe tbody tr th:only-of-type {\n        vertical-align: middle;\n    }\n\n    .dataframe tbody tr th {\n        vertical-align: top;\n    }\n\n    .dataframe thead th {\n        text-align: right;\n    }\n</style>\n<table border=\"1\" class=\"dataframe\">\n  <thead>\n    <tr style=\"text-align: right;\">\n      <th></th>\n      <th>id</th>\n      <th>F1</th>\n      <th>F2</th>\n      <th>F3</th>\n      <th>F4</th>\n      <th>F5</th>\n      <th>F6</th>\n      <th>F7</th>\n      <th>F8</th>\n      <th>F9</th>\n      <th>...</th>\n      <th>F19</th>\n      <th>F20</th>\n      <th>F21</th>\n      <th>F22</th>\n      <th>F23</th>\n      <th>F24</th>\n      <th>F25</th>\n      <th>F26</th>\n      <th>F27</th>\n      <th>F28</th>\n    </tr>\n  </thead>\n  <tbody>\n    <tr>\n      <th>0</th>\n      <td>HOBBIES_1_001_CA_1_validation</td>\n      <td>0</td>\n      <td>0</td>\n      <td>0</td>\n      <td>0</td>\n      <td>0</td>\n      <td>0</td>\n      <td>0</td>\n      <td>0</td>\n      <td>0</td>\n      <td>...</td>\n      <td>0</td>\n      <td>0</td>\n      <td>0</td>\n      <td>0</td>\n      <td>0</td>\n      <td>0</td>\n      <td>0</td>\n      <td>0</td>\n      <td>0</td>\n      <td>0</td>\n    </tr>\n    <tr>\n      <th>1</th>\n      <td>HOBBIES_1_002_CA_1_validation</td>\n      <td>0</td>\n      <td>0</td>\n      <td>0</td>\n      <td>0</td>\n      <td>0</td>\n      <td>0</td>\n      <td>0</td>\n      <td>0</td>\n      <td>0</td>\n      <td>...</td>\n      <td>0</td>\n      <td>0</td>\n      <td>0</td>\n      <td>0</td>\n      <td>0</td>\n      <td>0</td>\n      <td>0</td>\n      <td>0</td>\n      <td>0</td>\n      <td>0</td>\n    </tr>\n    <tr>\n      <th>2</th>\n      <td>HOBBIES_1_003_CA_1_validation</td>\n      <td>0</td>\n      <td>0</td>\n      <td>0</td>\n      <td>0</td>\n      <td>0</td>\n      <td>0</td>\n      <td>0</td>\n      <td>0</td>\n      <td>0</td>\n      <td>...</td>\n      <td>0</td>\n      <td>0</td>\n      <td>0</td>\n      <td>0</td>\n      <td>0</td>\n      <td>0</td>\n      <td>0</td>\n      <td>0</td>\n      <td>0</td>\n      <td>0</td>\n    </tr>\n    <tr>\n      <th>3</th>\n      <td>HOBBIES_1_004_CA_1_validation</td>\n      <td>0</td>\n      <td>0</td>\n      <td>0</td>\n      <td>0</td>\n      <td>0</td>\n      <td>0</td>\n      <td>0</td>\n      <td>0</td>\n      <td>0</td>\n      <td>...</td>\n      <td>0</td>\n      <td>0</td>\n      <td>0</td>\n      <td>0</td>\n      <td>0</td>\n      <td>0</td>\n      <td>0</td>\n      <td>0</td>\n      <td>0</td>\n      <td>0</td>\n    </tr>\n    <tr>\n      <th>4</th>\n      <td>HOBBIES_1_005_CA_1_validation</td>\n      <td>0</td>\n      <td>0</td>\n      <td>0</td>\n      <td>0</td>\n      <td>0</td>\n      <td>0</td>\n      <td>0</td>\n      <td>0</td>\n      <td>0</td>\n      <td>...</td>\n      <td>0</td>\n      <td>0</td>\n      <td>0</td>\n      <td>0</td>\n      <td>0</td>\n      <td>0</td>\n      <td>0</td>\n      <td>0</td>\n      <td>0</td>\n      <td>0</td>\n    </tr>\n  </tbody>\n</table>\n<p>5 rows × 29 columns</p>\n</div>",
      "text/plain": "                              id  F1  F2  F3  F4  F5  F6  F7  F8  F9  ...  \\\n0  HOBBIES_1_001_CA_1_validation   0   0   0   0   0   0   0   0   0  ...   \n1  HOBBIES_1_002_CA_1_validation   0   0   0   0   0   0   0   0   0  ...   \n2  HOBBIES_1_003_CA_1_validation   0   0   0   0   0   0   0   0   0  ...   \n3  HOBBIES_1_004_CA_1_validation   0   0   0   0   0   0   0   0   0  ...   \n4  HOBBIES_1_005_CA_1_validation   0   0   0   0   0   0   0   0   0  ...   \n\n   F19  F20  F21  F22  F23  F24  F25  F26  F27  F28  \n0    0    0    0    0    0    0    0    0    0    0  \n1    0    0    0    0    0    0    0    0    0    0  \n2    0    0    0    0    0    0    0    0    0    0  \n3    0    0    0    0    0    0    0    0    0    0  \n4    0    0    0    0    0    0    0    0    0    0  \n\n[5 rows x 29 columns]"
     },
     "execution_count": 33,
     "metadata": {},
     "output_type": "execute_result"
    }
   ],
   "source": [
    "sub.head()"
   ]
  },
  {
   "cell_type": "code",
   "execution_count": 35,
   "metadata": {},
   "outputs": [
    {
     "data": {
      "text/plain": "(30490, 1919)"
     },
     "execution_count": 35,
     "metadata": {},
     "output_type": "execute_result"
    }
   ],
   "source": [
    "df.shape"
   ]
  },
  {
   "cell_type": "code",
   "execution_count": 39,
   "metadata": {},
   "outputs": [],
   "source": [
    "test = sub[sub['id'].isin(df['id'].unique())]"
   ]
  },
  {
   "cell_type": "code",
   "execution_count": 42,
   "metadata": {},
   "outputs": [],
   "source": [
    "test_day = ['d_'+str(i) for i in range(1914,1942,1)]"
   ]
  },
  {
   "cell_type": "code",
   "execution_count": 48,
   "metadata": {},
   "outputs": [],
   "source": [
    "t_id_list = []\n",
    "test_day_list = []\n",
    "\n",
    "for id in df['id']:\n",
    "    t_id_list += [id for _ in range(len(test_day))]\n",
    "    test_day_list += [d for d in test_day]"
   ]
  },
  {
   "cell_type": "code",
   "execution_count": 49,
   "metadata": {},
   "outputs": [],
   "source": [
    "df_test = pd.DataFrame()\n",
    "df_test['id'] = t_id_list\n",
    "df_test['d'] = test_day_list"
   ]
  },
  {
   "cell_type": "code",
   "execution_count": 50,
   "metadata": {},
   "outputs": [
    {
     "data": {
      "text/html": "<div>\n<style scoped>\n    .dataframe tbody tr th:only-of-type {\n        vertical-align: middle;\n    }\n\n    .dataframe tbody tr th {\n        vertical-align: top;\n    }\n\n    .dataframe thead th {\n        text-align: right;\n    }\n</style>\n<table border=\"1\" class=\"dataframe\">\n  <thead>\n    <tr style=\"text-align: right;\">\n      <th></th>\n      <th>id</th>\n      <th>d</th>\n    </tr>\n  </thead>\n  <tbody>\n    <tr>\n      <th>0</th>\n      <td>HOBBIES_1_001_CA_1_validation</td>\n      <td>d_1914</td>\n    </tr>\n    <tr>\n      <th>1</th>\n      <td>HOBBIES_1_001_CA_1_validation</td>\n      <td>d_1915</td>\n    </tr>\n    <tr>\n      <th>2</th>\n      <td>HOBBIES_1_001_CA_1_validation</td>\n      <td>d_1916</td>\n    </tr>\n    <tr>\n      <th>3</th>\n      <td>HOBBIES_1_001_CA_1_validation</td>\n      <td>d_1917</td>\n    </tr>\n    <tr>\n      <th>4</th>\n      <td>HOBBIES_1_001_CA_1_validation</td>\n      <td>d_1918</td>\n    </tr>\n  </tbody>\n</table>\n</div>",
      "text/plain": "                              id       d\n0  HOBBIES_1_001_CA_1_validation  d_1914\n1  HOBBIES_1_001_CA_1_validation  d_1915\n2  HOBBIES_1_001_CA_1_validation  d_1916\n3  HOBBIES_1_001_CA_1_validation  d_1917\n4  HOBBIES_1_001_CA_1_validation  d_1918"
     },
     "execution_count": 50,
     "metadata": {},
     "output_type": "execute_result"
    }
   ],
   "source": [
    "df_test.head()"
   ]
  },
  {
   "cell_type": "code",
   "execution_count": 51,
   "metadata": {},
   "outputs": [],
   "source": [
    "cal_df_test = pd.merge(df_test,cal,on='d',how='left')"
   ]
  },
  {
   "cell_type": "code",
   "execution_count": 53,
   "metadata": {},
   "outputs": [
    {
     "data": {
      "text/html": "<div>\n<style scoped>\n    .dataframe tbody tr th:only-of-type {\n        vertical-align: middle;\n    }\n\n    .dataframe tbody tr th {\n        vertical-align: top;\n    }\n\n    .dataframe thead th {\n        text-align: right;\n    }\n</style>\n<table border=\"1\" class=\"dataframe\">\n  <thead>\n    <tr style=\"text-align: right;\">\n      <th></th>\n      <th>id</th>\n      <th>d</th>\n      <th>date</th>\n      <th>wm_yr_wk</th>\n      <th>weekday</th>\n      <th>wday</th>\n      <th>month</th>\n      <th>year</th>\n      <th>event_name_1</th>\n      <th>event_type_1</th>\n      <th>event_name_2</th>\n      <th>event_type_2</th>\n      <th>snap_CA</th>\n      <th>snap_TX</th>\n      <th>snap_WI</th>\n    </tr>\n  </thead>\n  <tbody>\n    <tr>\n      <th>0</th>\n      <td>HOBBIES_1_001_CA_1_validation</td>\n      <td>d_1914</td>\n      <td>2016-04-25</td>\n      <td>11613</td>\n      <td>Monday</td>\n      <td>3</td>\n      <td>4</td>\n      <td>2016</td>\n      <td>NaN</td>\n      <td>NaN</td>\n      <td>NaN</td>\n      <td>NaN</td>\n      <td>0</td>\n      <td>0</td>\n      <td>0</td>\n    </tr>\n    <tr>\n      <th>1</th>\n      <td>HOBBIES_1_001_CA_1_validation</td>\n      <td>d_1915</td>\n      <td>2016-04-26</td>\n      <td>11613</td>\n      <td>Tuesday</td>\n      <td>4</td>\n      <td>4</td>\n      <td>2016</td>\n      <td>NaN</td>\n      <td>NaN</td>\n      <td>NaN</td>\n      <td>NaN</td>\n      <td>0</td>\n      <td>0</td>\n      <td>0</td>\n    </tr>\n    <tr>\n      <th>2</th>\n      <td>HOBBIES_1_001_CA_1_validation</td>\n      <td>d_1916</td>\n      <td>2016-04-27</td>\n      <td>11613</td>\n      <td>Wednesday</td>\n      <td>5</td>\n      <td>4</td>\n      <td>2016</td>\n      <td>NaN</td>\n      <td>NaN</td>\n      <td>NaN</td>\n      <td>NaN</td>\n      <td>0</td>\n      <td>0</td>\n      <td>0</td>\n    </tr>\n    <tr>\n      <th>3</th>\n      <td>HOBBIES_1_001_CA_1_validation</td>\n      <td>d_1917</td>\n      <td>2016-04-28</td>\n      <td>11613</td>\n      <td>Thursday</td>\n      <td>6</td>\n      <td>4</td>\n      <td>2016</td>\n      <td>NaN</td>\n      <td>NaN</td>\n      <td>NaN</td>\n      <td>NaN</td>\n      <td>0</td>\n      <td>0</td>\n      <td>0</td>\n    </tr>\n    <tr>\n      <th>4</th>\n      <td>HOBBIES_1_001_CA_1_validation</td>\n      <td>d_1918</td>\n      <td>2016-04-29</td>\n      <td>11613</td>\n      <td>Friday</td>\n      <td>7</td>\n      <td>4</td>\n      <td>2016</td>\n      <td>NaN</td>\n      <td>NaN</td>\n      <td>NaN</td>\n      <td>NaN</td>\n      <td>0</td>\n      <td>0</td>\n      <td>0</td>\n    </tr>\n  </tbody>\n</table>\n</div>",
      "text/plain": "                              id       d        date  wm_yr_wk    weekday  \\\n0  HOBBIES_1_001_CA_1_validation  d_1914  2016-04-25     11613     Monday   \n1  HOBBIES_1_001_CA_1_validation  d_1915  2016-04-26     11613    Tuesday   \n2  HOBBIES_1_001_CA_1_validation  d_1916  2016-04-27     11613  Wednesday   \n3  HOBBIES_1_001_CA_1_validation  d_1917  2016-04-28     11613   Thursday   \n4  HOBBIES_1_001_CA_1_validation  d_1918  2016-04-29     11613     Friday   \n\n   wday  month  year event_name_1 event_type_1 event_name_2 event_type_2  \\\n0     3      4  2016          NaN          NaN          NaN          NaN   \n1     4      4  2016          NaN          NaN          NaN          NaN   \n2     5      4  2016          NaN          NaN          NaN          NaN   \n3     6      4  2016          NaN          NaN          NaN          NaN   \n4     7      4  2016          NaN          NaN          NaN          NaN   \n\n   snap_CA  snap_TX  snap_WI  \n0        0        0        0  \n1        0        0        0  \n2        0        0        0  \n3        0        0        0  \n4        0        0        0  "
     },
     "execution_count": 53,
     "metadata": {},
     "output_type": "execute_result"
    }
   ],
   "source": [
    "cal_df_test.head()"
   ]
  },
  {
   "cell_type": "code",
   "execution_count": 55,
   "metadata": {},
   "outputs": [
    {
     "data": {
      "text/html": "<div>\n<style scoped>\n    .dataframe tbody tr th:only-of-type {\n        vertical-align: middle;\n    }\n\n    .dataframe tbody tr th {\n        vertical-align: top;\n    }\n\n    .dataframe thead th {\n        text-align: right;\n    }\n</style>\n<table border=\"1\" class=\"dataframe\">\n  <thead>\n    <tr style=\"text-align: right;\">\n      <th></th>\n      <th>store_id</th>\n      <th>item_id</th>\n      <th>wm_yr_wk</th>\n      <th>sell_price</th>\n    </tr>\n  </thead>\n  <tbody>\n    <tr>\n      <th>0</th>\n      <td>CA_1</td>\n      <td>HOBBIES_1_001</td>\n      <td>11325</td>\n      <td>9.58</td>\n    </tr>\n    <tr>\n      <th>1</th>\n      <td>CA_1</td>\n      <td>HOBBIES_1_001</td>\n      <td>11326</td>\n      <td>9.58</td>\n    </tr>\n    <tr>\n      <th>2</th>\n      <td>CA_1</td>\n      <td>HOBBIES_1_001</td>\n      <td>11327</td>\n      <td>8.26</td>\n    </tr>\n    <tr>\n      <th>3</th>\n      <td>CA_1</td>\n      <td>HOBBIES_1_001</td>\n      <td>11328</td>\n      <td>8.26</td>\n    </tr>\n    <tr>\n      <th>4</th>\n      <td>CA_1</td>\n      <td>HOBBIES_1_001</td>\n      <td>11329</td>\n      <td>8.26</td>\n    </tr>\n  </tbody>\n</table>\n</div>",
      "text/plain": "  store_id        item_id  wm_yr_wk  sell_price\n0     CA_1  HOBBIES_1_001     11325        9.58\n1     CA_1  HOBBIES_1_001     11326        9.58\n2     CA_1  HOBBIES_1_001     11327        8.26\n3     CA_1  HOBBIES_1_001     11328        8.26\n4     CA_1  HOBBIES_1_001     11329        8.26"
     },
     "execution_count": 55,
     "metadata": {},
     "output_type": "execute_result"
    }
   ],
   "source": [
    "sell.head()"
   ]
  },
  {
   "cell_type": "code",
   "execution_count": 58,
   "metadata": {},
   "outputs": [],
   "source": [
    "m_df = df[['id','item_id','dept_id','cat_id','store_id','state_id']]"
   ]
  },
  {
   "cell_type": "code",
   "execution_count": 59,
   "metadata": {},
   "outputs": [],
   "source": [
    "m_cal_df_test = pd.merge(cal_df_test,m_df,on='id',how='left')"
   ]
  },
  {
   "cell_type": "code",
   "execution_count": 61,
   "metadata": {},
   "outputs": [],
   "source": [
    "sell_m_cal_df_test = pd.merge(m_cal_df_test,sell,on=['store_id','item_id','wm_yr_wk'],how='left')"
   ]
  },
  {
   "cell_type": "code",
   "execution_count": 63,
   "metadata": {},
   "outputs": [
    {
     "data": {
      "text/plain": "(853720, 21)"
     },
     "execution_count": 63,
     "metadata": {},
     "output_type": "execute_result"
    }
   ],
   "source": [
    "sell_m_cal_df_test.shape"
   ]
  },
  {
   "cell_type": "code",
   "execution_count": 64,
   "metadata": {},
   "outputs": [
    {
     "name": "stdout",
     "output_type": "stream",
     "text": "Mem. usage decreased to 100.14 Mb (30.1% reduction)\n"
    }
   ],
   "source": [
    "sell_m_cal_df_test = reduce_mem_usage(sell_m_cal_df_test)"
   ]
  },
  {
   "cell_type": "code",
   "execution_count": 65,
   "metadata": {},
   "outputs": [],
   "source": [
    "sell_m_cal_df_test.to_csv('../data/test.csv', index=False)"
   ]
  },
  {
   "cell_type": "code",
   "execution_count": 66,
   "metadata": {},
   "outputs": [],
   "source": [
    "sell_m_cal_df_test.to_csv('../data/test.csv.gz', index=False, compression='gzip')"
   ]
  },
  {
   "cell_type": "code",
   "execution_count": 67,
   "metadata": {},
   "outputs": [],
   "source": [
    "sell_m_cal_df_test.to_pickle('../data/test.pkl')"
   ]
  },
  {
   "cell_type": "code",
   "execution_count": 68,
   "metadata": {},
   "outputs": [
    {
     "data": {
      "text/html": "<div>\n<style scoped>\n    .dataframe tbody tr th:only-of-type {\n        vertical-align: middle;\n    }\n\n    .dataframe tbody tr th {\n        vertical-align: top;\n    }\n\n    .dataframe thead th {\n        text-align: right;\n    }\n</style>\n<table border=\"1\" class=\"dataframe\">\n  <thead>\n    <tr style=\"text-align: right;\">\n      <th></th>\n      <th>id</th>\n      <th>d</th>\n      <th>date</th>\n      <th>wm_yr_wk</th>\n      <th>weekday</th>\n      <th>wday</th>\n      <th>month</th>\n      <th>year</th>\n      <th>event_name_1</th>\n      <th>event_type_1</th>\n      <th>...</th>\n      <th>event_type_2</th>\n      <th>snap_CA</th>\n      <th>snap_TX</th>\n      <th>snap_WI</th>\n      <th>item_id</th>\n      <th>dept_id</th>\n      <th>cat_id</th>\n      <th>store_id</th>\n      <th>state_id</th>\n      <th>sell_price</th>\n    </tr>\n  </thead>\n  <tbody>\n    <tr>\n      <th>0</th>\n      <td>HOBBIES_1_001_CA_1_validation</td>\n      <td>d_1914</td>\n      <td>2016-04-25</td>\n      <td>11613</td>\n      <td>Monday</td>\n      <td>3</td>\n      <td>4</td>\n      <td>2016</td>\n      <td>NaN</td>\n      <td>NaN</td>\n      <td>...</td>\n      <td>NaN</td>\n      <td>0</td>\n      <td>0</td>\n      <td>0</td>\n      <td>HOBBIES_1_001</td>\n      <td>HOBBIES_1</td>\n      <td>HOBBIES</td>\n      <td>CA_1</td>\n      <td>CA</td>\n      <td>8.382812</td>\n    </tr>\n    <tr>\n      <th>1</th>\n      <td>HOBBIES_1_001_CA_1_validation</td>\n      <td>d_1915</td>\n      <td>2016-04-26</td>\n      <td>11613</td>\n      <td>Tuesday</td>\n      <td>4</td>\n      <td>4</td>\n      <td>2016</td>\n      <td>NaN</td>\n      <td>NaN</td>\n      <td>...</td>\n      <td>NaN</td>\n      <td>0</td>\n      <td>0</td>\n      <td>0</td>\n      <td>HOBBIES_1_001</td>\n      <td>HOBBIES_1</td>\n      <td>HOBBIES</td>\n      <td>CA_1</td>\n      <td>CA</td>\n      <td>8.382812</td>\n    </tr>\n    <tr>\n      <th>2</th>\n      <td>HOBBIES_1_001_CA_1_validation</td>\n      <td>d_1916</td>\n      <td>2016-04-27</td>\n      <td>11613</td>\n      <td>Wednesday</td>\n      <td>5</td>\n      <td>4</td>\n      <td>2016</td>\n      <td>NaN</td>\n      <td>NaN</td>\n      <td>...</td>\n      <td>NaN</td>\n      <td>0</td>\n      <td>0</td>\n      <td>0</td>\n      <td>HOBBIES_1_001</td>\n      <td>HOBBIES_1</td>\n      <td>HOBBIES</td>\n      <td>CA_1</td>\n      <td>CA</td>\n      <td>8.382812</td>\n    </tr>\n    <tr>\n      <th>3</th>\n      <td>HOBBIES_1_001_CA_1_validation</td>\n      <td>d_1917</td>\n      <td>2016-04-28</td>\n      <td>11613</td>\n      <td>Thursday</td>\n      <td>6</td>\n      <td>4</td>\n      <td>2016</td>\n      <td>NaN</td>\n      <td>NaN</td>\n      <td>...</td>\n      <td>NaN</td>\n      <td>0</td>\n      <td>0</td>\n      <td>0</td>\n      <td>HOBBIES_1_001</td>\n      <td>HOBBIES_1</td>\n      <td>HOBBIES</td>\n      <td>CA_1</td>\n      <td>CA</td>\n      <td>8.382812</td>\n    </tr>\n    <tr>\n      <th>4</th>\n      <td>HOBBIES_1_001_CA_1_validation</td>\n      <td>d_1918</td>\n      <td>2016-04-29</td>\n      <td>11613</td>\n      <td>Friday</td>\n      <td>7</td>\n      <td>4</td>\n      <td>2016</td>\n      <td>NaN</td>\n      <td>NaN</td>\n      <td>...</td>\n      <td>NaN</td>\n      <td>0</td>\n      <td>0</td>\n      <td>0</td>\n      <td>HOBBIES_1_001</td>\n      <td>HOBBIES_1</td>\n      <td>HOBBIES</td>\n      <td>CA_1</td>\n      <td>CA</td>\n      <td>8.382812</td>\n    </tr>\n  </tbody>\n</table>\n<p>5 rows × 21 columns</p>\n</div>",
      "text/plain": "                              id       d        date  wm_yr_wk    weekday  \\\n0  HOBBIES_1_001_CA_1_validation  d_1914  2016-04-25     11613     Monday   \n1  HOBBIES_1_001_CA_1_validation  d_1915  2016-04-26     11613    Tuesday   \n2  HOBBIES_1_001_CA_1_validation  d_1916  2016-04-27     11613  Wednesday   \n3  HOBBIES_1_001_CA_1_validation  d_1917  2016-04-28     11613   Thursday   \n4  HOBBIES_1_001_CA_1_validation  d_1918  2016-04-29     11613     Friday   \n\n   wday  month  year event_name_1 event_type_1  ... event_type_2 snap_CA  \\\n0     3      4  2016          NaN          NaN  ...          NaN       0   \n1     4      4  2016          NaN          NaN  ...          NaN       0   \n2     5      4  2016          NaN          NaN  ...          NaN       0   \n3     6      4  2016          NaN          NaN  ...          NaN       0   \n4     7      4  2016          NaN          NaN  ...          NaN       0   \n\n   snap_TX  snap_WI        item_id    dept_id   cat_id store_id state_id  \\\n0        0        0  HOBBIES_1_001  HOBBIES_1  HOBBIES     CA_1       CA   \n1        0        0  HOBBIES_1_001  HOBBIES_1  HOBBIES     CA_1       CA   \n2        0        0  HOBBIES_1_001  HOBBIES_1  HOBBIES     CA_1       CA   \n3        0        0  HOBBIES_1_001  HOBBIES_1  HOBBIES     CA_1       CA   \n4        0        0  HOBBIES_1_001  HOBBIES_1  HOBBIES     CA_1       CA   \n\n  sell_price  \n0   8.382812  \n1   8.382812  \n2   8.382812  \n3   8.382812  \n4   8.382812  \n\n[5 rows x 21 columns]"
     },
     "execution_count": 68,
     "metadata": {},
     "output_type": "execute_result"
    }
   ],
   "source": [
    "sell_m_cal_df_test.head()"
   ]
  },
  {
   "cell_type": "code",
   "execution_count": 81,
   "metadata": {},
   "outputs": [],
   "source": [
    "cat_col = []\n",
    "for col in sell_m_cal_df_test.columns:\n",
    "    if (sell_m_cal_df_test[col].dtype == object):\n",
    "        cat_col.append(col)"
   ]
  },
  {
   "cell_type": "code",
   "execution_count": 86,
   "metadata": {},
   "outputs": [],
   "source": [
    "pd.set_option('display.max_columns',300)"
   ]
  },
  {
   "cell_type": "code",
   "execution_count": 154,
   "metadata": {},
   "outputs": [],
   "source": [
    "from sklearn import preprocessing\n",
    "l_test = sell_m_cal_df_test.copy()\n",
    "for column in cat_col:\n",
    "    le = preprocessing.LabelEncoder()\n",
    "    null_index = l_test[l_test[column].isnull()].index\n",
    "    drop_ltest = l_test[column].dropna()\n",
    "    le.fit(drop_ltest)\n",
    "    l_drop_ltest = le.transform(drop_ltest)\n",
    "    \n",
    "    null_data = []\n",
    "    i = 0\n",
    "    for index in l_test[column].index:\n",
    "        if index in null_index:\n",
    "            null_data.append(np.nan)\n",
    "        else:\n",
    "            null_data.append(l_drop_ltest[i])\n",
    "            i += 1\n",
    "\n",
    "    l_test[column] = null_data"
   ]
  },
  {
   "cell_type": "code",
   "execution_count": 156,
   "metadata": {},
   "outputs": [
    {
     "data": {
      "text/html": "<div>\n<style scoped>\n    .dataframe tbody tr th:only-of-type {\n        vertical-align: middle;\n    }\n\n    .dataframe tbody tr th {\n        vertical-align: top;\n    }\n\n    .dataframe thead th {\n        text-align: right;\n    }\n</style>\n<table border=\"1\" class=\"dataframe\">\n  <thead>\n    <tr style=\"text-align: right;\">\n      <th></th>\n      <th>id</th>\n      <th>d</th>\n      <th>date</th>\n      <th>wm_yr_wk</th>\n      <th>weekday</th>\n      <th>wday</th>\n      <th>month</th>\n      <th>year</th>\n      <th>event_name_1</th>\n      <th>event_type_1</th>\n      <th>event_name_2</th>\n      <th>event_type_2</th>\n      <th>snap_CA</th>\n      <th>snap_TX</th>\n      <th>snap_WI</th>\n      <th>item_id</th>\n      <th>dept_id</th>\n      <th>cat_id</th>\n      <th>store_id</th>\n      <th>state_id</th>\n      <th>sell_price</th>\n    </tr>\n  </thead>\n  <tbody>\n    <tr>\n      <th>0</th>\n      <td>14370</td>\n      <td>0</td>\n      <td>0</td>\n      <td>11613</td>\n      <td>1</td>\n      <td>3</td>\n      <td>4</td>\n      <td>2016</td>\n      <td>NaN</td>\n      <td>NaN</td>\n      <td>NaN</td>\n      <td>NaN</td>\n      <td>0</td>\n      <td>0</td>\n      <td>0</td>\n      <td>1437</td>\n      <td>3</td>\n      <td>1</td>\n      <td>0</td>\n      <td>0</td>\n      <td>8.382812</td>\n    </tr>\n    <tr>\n      <th>1</th>\n      <td>14370</td>\n      <td>1</td>\n      <td>1</td>\n      <td>11613</td>\n      <td>5</td>\n      <td>4</td>\n      <td>4</td>\n      <td>2016</td>\n      <td>NaN</td>\n      <td>NaN</td>\n      <td>NaN</td>\n      <td>NaN</td>\n      <td>0</td>\n      <td>0</td>\n      <td>0</td>\n      <td>1437</td>\n      <td>3</td>\n      <td>1</td>\n      <td>0</td>\n      <td>0</td>\n      <td>8.382812</td>\n    </tr>\n    <tr>\n      <th>2</th>\n      <td>14370</td>\n      <td>2</td>\n      <td>2</td>\n      <td>11613</td>\n      <td>6</td>\n      <td>5</td>\n      <td>4</td>\n      <td>2016</td>\n      <td>NaN</td>\n      <td>NaN</td>\n      <td>NaN</td>\n      <td>NaN</td>\n      <td>0</td>\n      <td>0</td>\n      <td>0</td>\n      <td>1437</td>\n      <td>3</td>\n      <td>1</td>\n      <td>0</td>\n      <td>0</td>\n      <td>8.382812</td>\n    </tr>\n    <tr>\n      <th>3</th>\n      <td>14370</td>\n      <td>3</td>\n      <td>3</td>\n      <td>11613</td>\n      <td>4</td>\n      <td>6</td>\n      <td>4</td>\n      <td>2016</td>\n      <td>NaN</td>\n      <td>NaN</td>\n      <td>NaN</td>\n      <td>NaN</td>\n      <td>0</td>\n      <td>0</td>\n      <td>0</td>\n      <td>1437</td>\n      <td>3</td>\n      <td>1</td>\n      <td>0</td>\n      <td>0</td>\n      <td>8.382812</td>\n    </tr>\n    <tr>\n      <th>4</th>\n      <td>14370</td>\n      <td>4</td>\n      <td>4</td>\n      <td>11613</td>\n      <td>0</td>\n      <td>7</td>\n      <td>4</td>\n      <td>2016</td>\n      <td>NaN</td>\n      <td>NaN</td>\n      <td>NaN</td>\n      <td>NaN</td>\n      <td>0</td>\n      <td>0</td>\n      <td>0</td>\n      <td>1437</td>\n      <td>3</td>\n      <td>1</td>\n      <td>0</td>\n      <td>0</td>\n      <td>8.382812</td>\n    </tr>\n  </tbody>\n</table>\n</div>",
      "text/plain": "      id  d  date  wm_yr_wk  weekday  wday  month  year  event_name_1  \\\n0  14370  0     0     11613        1     3      4  2016           NaN   \n1  14370  1     1     11613        5     4      4  2016           NaN   \n2  14370  2     2     11613        6     5      4  2016           NaN   \n3  14370  3     3     11613        4     6      4  2016           NaN   \n4  14370  4     4     11613        0     7      4  2016           NaN   \n\n   event_type_1  event_name_2  event_type_2  snap_CA  snap_TX  snap_WI  \\\n0           NaN           NaN           NaN        0        0        0   \n1           NaN           NaN           NaN        0        0        0   \n2           NaN           NaN           NaN        0        0        0   \n3           NaN           NaN           NaN        0        0        0   \n4           NaN           NaN           NaN        0        0        0   \n\n   item_id  dept_id  cat_id  store_id  state_id  sell_price  \n0     1437        3       1         0         0    8.382812  \n1     1437        3       1         0         0    8.382812  \n2     1437        3       1         0         0    8.382812  \n3     1437        3       1         0         0    8.382812  \n4     1437        3       1         0         0    8.382812  "
     },
     "execution_count": 156,
     "metadata": {},
     "output_type": "execute_result"
    }
   ],
   "source": [
    "l_test.head()"
   ]
  },
  {
   "cell_type": "code",
   "execution_count": 160,
   "metadata": {},
   "outputs": [],
   "source": [
    "l_train = sell_cal_n_df.copy()\n",
    "for column in cat_col:\n",
    "    le = preprocessing.LabelEncoder()\n",
    "    null_index = l_train[l_train[column].isnull()].index\n",
    "    drop_ltrain = l_train[column].dropna()\n",
    "    le.fit(drop_ltrain)\n",
    "    l_drop_ltrain = le.transform(drop_ltrain)\n",
    "    \n",
    "    null_data = []\n",
    "    i = 0\n",
    "    for index in l_train[column].index:\n",
    "        if index in null_index:\n",
    "            null_data.append(np.nan)\n",
    "        else:\n",
    "            null_data.append(l_drop_ltrain[i])\n",
    "            i += 1\n",
    "\n",
    "    l_train[column] = null_data"
   ]
  },
  {
   "cell_type": "code",
   "execution_count": 1,
   "metadata": {},
   "outputs": [
    {
     "ename": "NameError",
     "evalue": "name 'l_train' is not defined",
     "output_type": "error",
     "traceback": [
      "\u001b[0;31m---------------------------------------------------------------------------\u001b[0m",
      "\u001b[0;31mNameError\u001b[0m                                 Traceback (most recent call last)",
      "\u001b[0;32m<ipython-input-1-520dbe04fa06>\u001b[0m in \u001b[0;36m<module>\u001b[0;34m\u001b[0m\n\u001b[0;32m----> 1\u001b[0;31m \u001b[0ml_train\u001b[0m\u001b[0;34m.\u001b[0m\u001b[0mhead\u001b[0m\u001b[0;34m(\u001b[0m\u001b[0;34m)\u001b[0m\u001b[0;34m\u001b[0m\u001b[0;34m\u001b[0m\u001b[0m\n\u001b[0m",
      "\u001b[0;31mNameError\u001b[0m: name 'l_train' is not defined"
     ]
    }
   ],
   "source": [
    "l_train.head()"
   ]
  },
  {
   "cell_type": "code",
   "execution_count": null,
   "metadata": {},
   "outputs": [],
   "source": []
  }
 ]
}